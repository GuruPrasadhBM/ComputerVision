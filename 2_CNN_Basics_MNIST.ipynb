{
  "nbformat": 4,
  "nbformat_minor": 0,
  "metadata": {
    "colab": {
      "name": "2_CNN_Basics_MNIST.ipynb",
      "provenance": [],
      "collapsed_sections": []
    },
    "kernelspec": {
      "name": "python3",
      "display_name": "Python 3"
    }
  },
  "cells": [
    {
      "cell_type": "code",
      "metadata": {
        "id": "O7yJ1Tz9RWPg",
        "colab_type": "code",
        "outputId": "7843c71c-8221-4020-cd6e-71a1547858c1",
        "colab": {
          "base_uri": "https://localhost:8080/",
          "height": 88
        }
      },
      "source": [
        "from __future__ import absolute_import, division, print_function\n",
        "import numpy as np\n",
        "import keras\n",
        "from keras.datasets import cifar10, mnist\n",
        "from keras.models import Sequential\n",
        "from keras.layers import Dense, Activation, Dropout, Flatten, Reshape\n",
        "from keras.layers import Convolution2D, MaxPooling2D\n",
        "from keras.utils import np_utils\n",
        "import pickle\n",
        "\n",
        "from matplotlib import pyplot as plt\n",
        "import seaborn as sns\n",
        "plt.rcParams['figure.figsize'] = (15,8)"
      ],
      "execution_count": 0,
      "outputs": [
        {
          "output_type": "stream",
          "text": [
            "Using TensorFlow backend.\n",
            "/usr/local/lib/python3.6/dist-packages/statsmodels/tools/_testing.py:19: FutureWarning: pandas.util.testing is deprecated. Use the functions in the public API at pandas.testing instead.\n",
            "  import pandas.util.testing as tm\n"
          ],
          "name": "stderr"
        }
      ]
    },
    {
      "cell_type": "code",
      "metadata": {
        "id": "sGGT3LSIOug7",
        "colab_type": "code",
        "outputId": "f28f54eb-47a0-4147-a545-3d505303507c",
        "colab": {
          "base_uri": "https://localhost:8080/",
          "height": 122
        }
      },
      "source": [
        "from google.colab import drive\n",
        "drive.mount('/drive')"
      ],
      "execution_count": 0,
      "outputs": [
        {
          "output_type": "stream",
          "text": [
            "Go to this URL in a browser: https://accounts.google.com/o/oauth2/auth?client_id=947318989803-6bn6qk8qdgf4n4g3pfee6491hc0brc4i.apps.googleusercontent.com&redirect_uri=urn%3aietf%3awg%3aoauth%3a2.0%3aoob&response_type=code&scope=email%20https%3a%2f%2fwww.googleapis.com%2fauth%2fdocs.test%20https%3a%2f%2fwww.googleapis.com%2fauth%2fdrive%20https%3a%2f%2fwww.googleapis.com%2fauth%2fdrive.photos.readonly%20https%3a%2f%2fwww.googleapis.com%2fauth%2fpeopleapi.readonly\n",
            "\n",
            "Enter your authorization code:\n",
            "··········\n",
            "Mounted at /drive\n"
          ],
          "name": "stdout"
        }
      ]
    },
    {
      "cell_type": "code",
      "metadata": {
        "id": "BlxFobmaP17u",
        "colab_type": "code",
        "colab": {}
      },
      "source": [
        "#MNIST\n"
      ],
      "execution_count": 0,
      "outputs": []
    },
    {
      "cell_type": "code",
      "metadata": {
        "id": "3-2CremmP4Em",
        "colab_type": "code",
        "outputId": "7bab5be3-e2e3-4ffb-8e15-f33dd3a2cb31",
        "colab": {
          "base_uri": "https://localhost:8080/",
          "height": 119
        }
      },
      "source": [
        "%matplotlib inline\n",
        "#Load and prepare data\n",
        "#test data. to check the accuracy on unseen data. Machine learning is a Generalization problem.\n",
        "# 2 tasks. the difference between the test dataset and train data set should be minimal.\n",
        "(x_train, y_train_num), (x_test, y_test_num) = mnist.load_data()\n",
        "\n",
        "#The input of the neural network is fixed, hence it is modified as shown\n",
        "x_train = x_train.reshape(x_train.shape[0], 28,28,1).astype('float32')\n",
        "x_test = x_test.reshape(x_test.shape[0], 28,28,1).astype('float32')\n",
        "\n",
        "\n",
        "x_train /= 255\n",
        "x_test /= 255\n",
        "\n",
        "y_train = np_utils.to_categorical(y_train_num, 10)\n",
        "y_test = np_utils.to_categorical(y_test_num,10)\n",
        "\n",
        "print('*** The Data ***')\n",
        "print ('x_train shape: ', x_train.shape)\n",
        "print(x_train.shape[0], 'train samples')\n",
        "print(x_test.shape[0], 'test samples')"
      ],
      "execution_count": 0,
      "outputs": [
        {
          "output_type": "stream",
          "text": [
            "Downloading data from https://s3.amazonaws.com/img-datasets/mnist.npz\n",
            "11493376/11490434 [==============================] - 2s 0us/step\n",
            "*** The Data ***\n",
            "x_train shape:  (60000, 28, 28, 1)\n",
            "60000 train samples\n",
            "10000 test samples\n"
          ],
          "name": "stdout"
        }
      ]
    },
    {
      "cell_type": "code",
      "metadata": {
        "id": "ynghO7dcoOdC",
        "colab_type": "code",
        "colab": {}
      },
      "source": [
        "#DNN\n"
      ],
      "execution_count": 0,
      "outputs": []
    },
    {
      "cell_type": "code",
      "metadata": {
        "id": "rszs6_UuoPhZ",
        "colab_type": "code",
        "colab": {}
      },
      "source": [
        "TRAIN = False\n",
        "BATCH_SIZE = 32\n",
        "EPOCHS =10"
      ],
      "execution_count": 0,
      "outputs": []
    },
    {
      "cell_type": "code",
      "metadata": {
        "id": "uD9UjLOLoZdi",
        "colab_type": "code",
        "outputId": "022931d3-7de8-450c-f36b-13e86ac8a239",
        "colab": {
          "base_uri": "https://localhost:8080/",
          "height": 530
        }
      },
      "source": [
        "#Define Type of Model\n",
        "model1 = Sequential()\n",
        "\n",
        "# Flatten Images to vector\n",
        "model1.add(Reshape((784,), input_shape=(28,28,1)))\n",
        "\n",
        "#Layer1\n",
        "model1.add(Dense(output_dim = 128, init='he_normal', bias=True))\n",
        "model1.add(Activation(\"relu\"))\n",
        "\n",
        "#Layer2\n",
        "model1.add(Dense(output_dim = 10, init='he_normal', bias=True))\n",
        "model1.add(Activation(\"softmax\"))\n",
        "\n",
        "# Loss and Optimizer. Cross Entropy because Multi class classification\n",
        "# Hyper parameters = Filtersize, stride, number of conv blocks, number of filters\n",
        "# Why class entropy - multi class loss\n",
        "# Metrics are not used by the model. It is for the developer observation to tune hyper parameters\n",
        "# Loss is the only thing that optimizer uses.\n",
        "model1.compile(loss='categorical_crossentropy', optimizer='adam', metrics=['accuracy'])\n",
        " \n",
        "\n",
        "#Store Training Results\n",
        "early_stopping = keras.callbacks.EarlyStopping(monitor='val_acc', patience=3, verbose=1, mode= 'auto')\n",
        "callback_list=[early_stopping]\n",
        "\n",
        "#Train the model\n",
        "model1.fit(x_train, y_train, nb_epoch=EPOCHS, batch_size= BATCH_SIZE, \n",
        "           validation_data=(x_test, y_test), callbacks = callback_list, verbose=True)\n",
        "\n"
      ],
      "execution_count": 0,
      "outputs": [
        {
          "output_type": "stream",
          "text": [
            "/usr/local/lib/python3.6/dist-packages/ipykernel_launcher.py:7: UserWarning: Update your `Dense` call to the Keras 2 API: `Dense(units=128, kernel_initializer=\"he_normal\", use_bias=True)`\n",
            "  import sys\n",
            "/usr/local/lib/python3.6/dist-packages/ipykernel_launcher.py:11: UserWarning: Update your `Dense` call to the Keras 2 API: `Dense(units=10, kernel_initializer=\"he_normal\", use_bias=True)`\n",
            "  # This is added back by InteractiveShellApp.init_path()\n",
            "/usr/local/lib/python3.6/dist-packages/ipykernel_launcher.py:28: UserWarning: The `nb_epoch` argument in `fit` has been renamed `epochs`.\n"
          ],
          "name": "stderr"
        },
        {
          "output_type": "stream",
          "text": [
            "Train on 60000 samples, validate on 10000 samples\n",
            "Epoch 1/10\n",
            "60000/60000 [==============================] - 6s 93us/step - loss: 0.2583 - accuracy: 0.9259 - val_loss: 0.1298 - val_accuracy: 0.9612\n",
            "Epoch 2/10\n",
            " 2016/60000 [>.............................] - ETA: 4s - loss: 0.1336 - accuracy: 0.9578"
          ],
          "name": "stdout"
        },
        {
          "output_type": "stream",
          "text": [
            "/usr/local/lib/python3.6/dist-packages/keras/callbacks/callbacks.py:846: RuntimeWarning: Early stopping conditioned on metric `val_acc` which is not available. Available metrics are: val_loss,val_accuracy,loss,accuracy\n",
            "  (self.monitor, ','.join(list(logs.keys()))), RuntimeWarning\n"
          ],
          "name": "stderr"
        },
        {
          "output_type": "stream",
          "text": [
            "60000/60000 [==============================] - 5s 86us/step - loss: 0.1149 - accuracy: 0.9655 - val_loss: 0.1063 - val_accuracy: 0.9673\n",
            "Epoch 3/10\n",
            "60000/60000 [==============================] - 5s 83us/step - loss: 0.0793 - accuracy: 0.9765 - val_loss: 0.0939 - val_accuracy: 0.9713\n",
            "Epoch 4/10\n",
            "60000/60000 [==============================] - 5s 85us/step - loss: 0.0600 - accuracy: 0.9815 - val_loss: 0.0895 - val_accuracy: 0.9715\n",
            "Epoch 5/10\n",
            "60000/60000 [==============================] - 5s 85us/step - loss: 0.0455 - accuracy: 0.9857 - val_loss: 0.0785 - val_accuracy: 0.9767\n",
            "Epoch 6/10\n",
            "60000/60000 [==============================] - 5s 86us/step - loss: 0.0370 - accuracy: 0.9888 - val_loss: 0.0777 - val_accuracy: 0.9782\n",
            "Epoch 7/10\n",
            "60000/60000 [==============================] - 5s 86us/step - loss: 0.0300 - accuracy: 0.9906 - val_loss: 0.0774 - val_accuracy: 0.9777\n",
            "Epoch 8/10\n",
            "60000/60000 [==============================] - 5s 87us/step - loss: 0.0229 - accuracy: 0.9930 - val_loss: 0.0785 - val_accuracy: 0.9783\n",
            "Epoch 9/10\n",
            "60000/60000 [==============================] - 5s 86us/step - loss: 0.0185 - accuracy: 0.9938 - val_loss: 0.0810 - val_accuracy: 0.9784\n",
            "Epoch 10/10\n",
            "60000/60000 [==============================] - 5s 87us/step - loss: 0.0163 - accuracy: 0.9947 - val_loss: 0.0817 - val_accuracy: 0.9774\n"
          ],
          "name": "stdout"
        },
        {
          "output_type": "execute_result",
          "data": {
            "text/plain": [
              "<keras.callbacks.callbacks.History at 0x7fa99790ff60>"
            ]
          },
          "metadata": {
            "tags": []
          },
          "execution_count": 5
        }
      ]
    },
    {
      "cell_type": "code",
      "metadata": {
        "id": "1buN6V-Es9q2",
        "colab_type": "code",
        "outputId": "b1812cb0-393a-4ea7-c061-ea6e0dcfbdef",
        "colab": {
          "base_uri": "https://localhost:8080/",
          "height": 51
        }
      },
      "source": [
        "loss_and_metrics =model1.evaluate(x_test, y_test)\n",
        "print(loss_and_metrics)"
      ],
      "execution_count": 0,
      "outputs": [
        {
          "output_type": "stream",
          "text": [
            "10000/10000 [==============================] - 0s 25us/step\n",
            "[0.0816619831831922, 0.977400004863739]\n"
          ],
          "name": "stdout"
        }
      ]
    },
    {
      "cell_type": "code",
      "metadata": {
        "id": "wSk2fwhVtF5_",
        "colab_type": "code",
        "colab": {}
      },
      "source": [
        "# Vannila CNN"
      ],
      "execution_count": 0,
      "outputs": []
    },
    {
      "cell_type": "code",
      "metadata": {
        "id": "ZSEKIBORtdto",
        "colab_type": "code",
        "colab": {}
      },
      "source": [
        "TRAIN = False\n",
        "BATCH_SIZE = 32\n",
        "EPOCHS =10"
      ],
      "execution_count": 0,
      "outputs": []
    },
    {
      "cell_type": "code",
      "metadata": {
        "id": "LNZbGIjcti6l",
        "colab_type": "code",
        "outputId": "fcac2664-88aa-4a75-ac0d-906a6ae256f2",
        "colab": {
          "base_uri": "https://localhost:8080/",
          "height": 530
        }
      },
      "source": [
        "#Define model\n",
        "\n",
        "model2 = Sequential()\n",
        "\n",
        "#Layer 1\n",
        "#Flattening is not required, because the input is a Tensor\n",
        "model2.add(Convolution2D(32,3,3, input_shape=(28,28,1)))\n",
        "model2.add(Activation('relu'))\n",
        "\n",
        "#Layer2\n",
        "model2.add(Convolution2D(32,3,3))\n",
        "model2.add(Activation('relu'))\n",
        "\n",
        "# Fully Connected Layer\n",
        "model2.add(Flatten())\n",
        "model2.add(Dense(128))\n",
        "model2.add(Activation('relu'))\n",
        "\n",
        "#Prediction Layer\n",
        "model2.add(Dense(10))\n",
        "model2.add(Activation('softmax'))\n",
        "\n",
        "#Loss and optimizer\n",
        "model2.compile(loss='categorical_crossentropy', optimizer='adam', metrics=['accuracy'])\n",
        "\n",
        "#Store Training results\n",
        "early_stoping =  keras.callbacks.EarlyStopping(monitor='val_acc', patience=10, verbose =1, mode='auto')\n",
        "callback_list=[early_stopping]\n",
        "\n",
        "# Train the model 2\n",
        "model2.fit(x_train, y_train, batch_size= BATCH_SIZE, nb_epoch=EPOCHS, validation_data=(x_test, y_test), callbacks= callback_list)"
      ],
      "execution_count": 0,
      "outputs": [
        {
          "output_type": "stream",
          "text": [
            "/usr/local/lib/python3.6/dist-packages/ipykernel_launcher.py:6: UserWarning: Update your `Conv2D` call to the Keras 2 API: `Conv2D(32, (3, 3), input_shape=(28, 28, 1...)`\n",
            "  \n",
            "/usr/local/lib/python3.6/dist-packages/ipykernel_launcher.py:10: UserWarning: Update your `Conv2D` call to the Keras 2 API: `Conv2D(32, (3, 3))`\n",
            "  # Remove the CWD from sys.path while we load stuff.\n",
            "/usr/local/lib/python3.6/dist-packages/ipykernel_launcher.py:30: UserWarning: The `nb_epoch` argument in `fit` has been renamed `epochs`.\n"
          ],
          "name": "stderr"
        },
        {
          "output_type": "stream",
          "text": [
            "Train on 60000 samples, validate on 10000 samples\n",
            "Epoch 1/10\n",
            "60000/60000 [==============================] - 150s 3ms/step - loss: 0.1120 - accuracy: 0.9662 - val_loss: 0.0558 - val_accuracy: 0.9827\n",
            "Epoch 2/10\n",
            "   64/60000 [..............................] - ETA: 2:30 - loss: 0.0583 - accuracy: 0.9531"
          ],
          "name": "stdout"
        },
        {
          "output_type": "stream",
          "text": [
            "/usr/local/lib/python3.6/dist-packages/keras/callbacks/callbacks.py:846: RuntimeWarning: Early stopping conditioned on metric `val_acc` which is not available. Available metrics are: val_loss,val_accuracy,loss,accuracy\n",
            "  (self.monitor, ','.join(list(logs.keys()))), RuntimeWarning\n"
          ],
          "name": "stderr"
        },
        {
          "output_type": "stream",
          "text": [
            "60000/60000 [==============================] - 150s 2ms/step - loss: 0.0377 - accuracy: 0.9878 - val_loss: 0.0363 - val_accuracy: 0.9884\n",
            "Epoch 3/10\n",
            "60000/60000 [==============================] - 149s 2ms/step - loss: 0.0226 - accuracy: 0.9926 - val_loss: 0.0379 - val_accuracy: 0.9881\n",
            "Epoch 4/10\n",
            "60000/60000 [==============================] - 149s 2ms/step - loss: 0.0150 - accuracy: 0.9954 - val_loss: 0.0415 - val_accuracy: 0.9895\n",
            "Epoch 5/10\n",
            "60000/60000 [==============================] - 149s 2ms/step - loss: 0.0095 - accuracy: 0.9967 - val_loss: 0.0409 - val_accuracy: 0.9895\n",
            "Epoch 6/10\n",
            "60000/60000 [==============================] - 149s 2ms/step - loss: 0.0074 - accuracy: 0.9976 - val_loss: 0.0728 - val_accuracy: 0.9858\n",
            "Epoch 7/10\n",
            "60000/60000 [==============================] - 149s 2ms/step - loss: 0.0077 - accuracy: 0.9975 - val_loss: 0.0425 - val_accuracy: 0.9905\n",
            "Epoch 8/10\n",
            "60000/60000 [==============================] - 149s 2ms/step - loss: 0.0047 - accuracy: 0.9985 - val_loss: 0.0453 - val_accuracy: 0.9885\n",
            "Epoch 9/10\n",
            "60000/60000 [==============================] - 148s 2ms/step - loss: 0.0048 - accuracy: 0.9984 - val_loss: 0.0639 - val_accuracy: 0.9885\n",
            "Epoch 10/10\n",
            "60000/60000 [==============================] - 149s 2ms/step - loss: 0.0048 - accuracy: 0.9985 - val_loss: 0.0534 - val_accuracy: 0.9884\n"
          ],
          "name": "stdout"
        },
        {
          "output_type": "execute_result",
          "data": {
            "text/plain": [
              "<keras.callbacks.callbacks.History at 0x7fa9978408d0>"
            ]
          },
          "metadata": {
            "tags": []
          },
          "execution_count": 9
        }
      ]
    },
    {
      "cell_type": "code",
      "metadata": {
        "id": "cJyQU8v3o-9a",
        "colab_type": "code",
        "outputId": "054ce0a0-b64f-424b-84e5-22ef826785ad",
        "colab": {
          "base_uri": "https://localhost:8080/",
          "height": 459
        }
      },
      "source": [
        "model2.summary()"
      ],
      "execution_count": 0,
      "outputs": [
        {
          "output_type": "stream",
          "text": [
            "Model: \"sequential_2\"\n",
            "_________________________________________________________________\n",
            "Layer (type)                 Output Shape              Param #   \n",
            "=================================================================\n",
            "conv2d_1 (Conv2D)            (None, 26, 26, 32)        320       \n",
            "_________________________________________________________________\n",
            "activation_3 (Activation)    (None, 26, 26, 32)        0         \n",
            "_________________________________________________________________\n",
            "conv2d_2 (Conv2D)            (None, 24, 24, 32)        9248      \n",
            "_________________________________________________________________\n",
            "activation_4 (Activation)    (None, 24, 24, 32)        0         \n",
            "_________________________________________________________________\n",
            "flatten_1 (Flatten)          (None, 18432)             0         \n",
            "_________________________________________________________________\n",
            "dense_3 (Dense)              (None, 128)               2359424   \n",
            "_________________________________________________________________\n",
            "activation_5 (Activation)    (None, 128)               0         \n",
            "_________________________________________________________________\n",
            "dense_4 (Dense)              (None, 10)                1290      \n",
            "_________________________________________________________________\n",
            "activation_6 (Activation)    (None, 10)                0         \n",
            "=================================================================\n",
            "Total params: 2,370,282\n",
            "Trainable params: 2,370,282\n",
            "Non-trainable params: 0\n",
            "_________________________________________________________________\n"
          ],
          "name": "stdout"
        }
      ]
    },
    {
      "cell_type": "code",
      "metadata": {
        "id": "4ALrXBtMvwlv",
        "colab_type": "code",
        "colab": {}
      },
      "source": [
        "# Vannila CNN + Pooling + Dropout"
      ],
      "execution_count": 0,
      "outputs": []
    },
    {
      "cell_type": "code",
      "metadata": {
        "id": "MnIFZHHAwGVs",
        "colab_type": "code",
        "colab": {}
      },
      "source": [
        "BATCH_SIZE=32\n",
        "EPOCHS=10\n"
      ],
      "execution_count": 0,
      "outputs": []
    },
    {
      "cell_type": "code",
      "metadata": {
        "id": "CWa_eRriwLxN",
        "colab_type": "code",
        "outputId": "0aad46d4-d773-4932-d4f9-7a49a6e186f8",
        "colab": {
          "base_uri": "https://localhost:8080/",
          "height": 530
        }
      },
      "source": [
        "#Define Model\n",
        "model3= Sequential()\n",
        "\n",
        "#1st Conv Layer\n",
        "model3.add(Convolution2D(32,3,3, input_shape=(28,28,1)))\n",
        "model3.add(Activation('relu'))\n",
        "\n",
        "#2nd Conv Layer\n",
        "model3.add(Convolution2D(32,3,3))\n",
        "model3.add(Activation('relu'))\n",
        "\n",
        "#Max pooling\n",
        "model3.add(MaxPooling2D(pool_size=(2,2)))\n",
        "\n",
        "#Dropout\n",
        "model3.add(Dropout(0.25))\n",
        "\n",
        "#Fully Connected Layer\n",
        "model3.add(Flatten())\n",
        "model3.add(Dense(128))\n",
        "model3.add(Activation('relu'))\n",
        "\n",
        "#More Dropout\n",
        "model3.add(Dense(10))\n",
        "model3.add(Activation('softmax'))\n",
        "\n",
        "#Loss and optimizer\n",
        "model3.compile(loss= 'categorical_crossentropy', optimizer='adam', metrics=['accuracy'])\n",
        "\n",
        "#Store Training Results\n",
        "#Early stop. Mostly we stop if there is no significant reduction in Loss\n",
        "# Verbose - Detailed output\n",
        "# patience - Threshold of error plateue\n",
        "early_stopping = keras.callbacks.EarlyStopping(monitor='val_acc', patience=7, verbose=1, mode='auto')\n",
        "callback_list=[early_stopping]\n",
        "# Callback - to track the savemodel\n",
        "# Train the model\n",
        "model3.fit(x_train, y_train, batch_size= BATCH_SIZE, nb_epoch=EPOCHS, validation_data=(x_test, y_test), callbacks=callback_list)"
      ],
      "execution_count": 0,
      "outputs": [
        {
          "output_type": "stream",
          "text": [
            "/usr/local/lib/python3.6/dist-packages/ipykernel_launcher.py:4: UserWarning: Update your `Conv2D` call to the Keras 2 API: `Conv2D(32, (3, 3), input_shape=(28, 28, 1...)`\n",
            "  after removing the cwd from sys.path.\n",
            "/usr/local/lib/python3.6/dist-packages/ipykernel_launcher.py:8: UserWarning: Update your `Conv2D` call to the Keras 2 API: `Conv2D(32, (3, 3))`\n",
            "  \n",
            "/usr/local/lib/python3.6/dist-packages/ipykernel_launcher.py:33: UserWarning: The `nb_epoch` argument in `fit` has been renamed `epochs`.\n"
          ],
          "name": "stderr"
        },
        {
          "output_type": "stream",
          "text": [
            "Train on 60000 samples, validate on 10000 samples\n",
            "Epoch 1/10\n",
            "60000/60000 [==============================] - 113s 2ms/step - loss: 0.1325 - accuracy: 0.9591 - val_loss: 0.0504 - val_accuracy: 0.9840\n",
            "Epoch 2/10\n",
            "   96/60000 [..............................] - ETA: 1:49 - loss: 0.0327 - accuracy: 0.9792"
          ],
          "name": "stdout"
        },
        {
          "output_type": "stream",
          "text": [
            "/usr/local/lib/python3.6/dist-packages/keras/callbacks/callbacks.py:846: RuntimeWarning: Early stopping conditioned on metric `val_acc` which is not available. Available metrics are: val_loss,val_accuracy,loss,accuracy\n",
            "  (self.monitor, ','.join(list(logs.keys()))), RuntimeWarning\n"
          ],
          "name": "stderr"
        },
        {
          "output_type": "stream",
          "text": [
            "60000/60000 [==============================] - 113s 2ms/step - loss: 0.0461 - accuracy: 0.9854 - val_loss: 0.0293 - val_accuracy: 0.9902\n",
            "Epoch 3/10\n",
            "60000/60000 [==============================] - 113s 2ms/step - loss: 0.0293 - accuracy: 0.9906 - val_loss: 0.0311 - val_accuracy: 0.9899\n",
            "Epoch 4/10\n",
            "60000/60000 [==============================] - 113s 2ms/step - loss: 0.0231 - accuracy: 0.9922 - val_loss: 0.0405 - val_accuracy: 0.9876\n",
            "Epoch 5/10\n",
            "60000/60000 [==============================] - 114s 2ms/step - loss: 0.0170 - accuracy: 0.9945 - val_loss: 0.0289 - val_accuracy: 0.9923\n",
            "Epoch 6/10\n",
            "60000/60000 [==============================] - 114s 2ms/step - loss: 0.0132 - accuracy: 0.9955 - val_loss: 0.0331 - val_accuracy: 0.9907\n",
            "Epoch 7/10\n",
            "60000/60000 [==============================] - 114s 2ms/step - loss: 0.0119 - accuracy: 0.9961 - val_loss: 0.0352 - val_accuracy: 0.9907\n",
            "Epoch 8/10\n",
            "60000/60000 [==============================] - 119s 2ms/step - loss: 0.0093 - accuracy: 0.9968 - val_loss: 0.0491 - val_accuracy: 0.9891\n",
            "Epoch 9/10\n",
            "60000/60000 [==============================] - 114s 2ms/step - loss: 0.0089 - accuracy: 0.9968 - val_loss: 0.0439 - val_accuracy: 0.9903\n",
            "Epoch 10/10\n",
            "60000/60000 [==============================] - 114s 2ms/step - loss: 0.0079 - accuracy: 0.9973 - val_loss: 0.0370 - val_accuracy: 0.9920\n"
          ],
          "name": "stdout"
        },
        {
          "output_type": "execute_result",
          "data": {
            "text/plain": [
              "<keras.callbacks.callbacks.History at 0x7fa9968d8eb8>"
            ]
          },
          "metadata": {
            "tags": []
          },
          "execution_count": 12
        }
      ]
    }
  ]
}