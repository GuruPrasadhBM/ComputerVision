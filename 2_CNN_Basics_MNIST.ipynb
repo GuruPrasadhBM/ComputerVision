{
  "nbformat": 4,
  "nbformat_minor": 0,
  "metadata": {
    "colab": {
      "name": "CNN_Basics_MNIST.ipynb",
      "provenance": [],
      "collapsed_sections": []
    },
    "kernelspec": {
      "name": "python3",
      "display_name": "Python 3"
    }
  },
  "cells": [
    {
      "cell_type": "code",
      "metadata": {
        "id": "O7yJ1Tz9RWPg",
        "colab_type": "code",
        "colab": {}
      },
      "source": [
        "from __future__ import absolute_import, division, print_function\n",
        "import numpy as np\n",
        "import keras\n",
        "from keras.datasets import cifar10, mnist\n",
        "from keras.models import Sequential\n",
        "from keras.layers import Dense, Activation, Dropout, Flatten, Reshape\n",
        "from keras.layers import Convolution2D, MaxPooling2D\n",
        "from keras.utils import np_utils\n",
        "import pickle\n",
        "\n",
        "from matplotlib import pyplot as plt\n",
        "import seaborn as sns\n",
        "plt.rcParams['figure.figsize'] = (15,8)"
      ],
      "execution_count": 0,
      "outputs": []
    },
    {
      "cell_type": "code",
      "metadata": {
        "id": "sGGT3LSIOug7",
        "colab_type": "code",
        "outputId": "77a678a7-4945-41bf-d607-7ab21bd717a5",
        "colab": {
          "base_uri": "https://localhost:8080/",
          "height": 122
        }
      },
      "source": [
        "from google.colab import drive\n",
        "drive.mount('/drive')"
      ],
      "execution_count": 0,
      "outputs": [
        {
          "output_type": "stream",
          "text": [
            "Go to this URL in a browser: https://accounts.google.com/o/oauth2/auth?client_id=947318989803-6bn6qk8qdgf4n4g3pfee6491hc0brc4i.apps.googleusercontent.com&redirect_uri=urn%3aietf%3awg%3aoauth%3a2.0%3aoob&response_type=code&scope=email%20https%3a%2f%2fwww.googleapis.com%2fauth%2fdocs.test%20https%3a%2f%2fwww.googleapis.com%2fauth%2fdrive%20https%3a%2f%2fwww.googleapis.com%2fauth%2fdrive.photos.readonly%20https%3a%2f%2fwww.googleapis.com%2fauth%2fpeopleapi.readonly\n",
            "\n",
            "Enter your authorization code:\n",
            "··········\n",
            "Mounted at /drive\n"
          ],
          "name": "stdout"
        }
      ]
    },
    {
      "cell_type": "code",
      "metadata": {
        "id": "BlxFobmaP17u",
        "colab_type": "code",
        "colab": {}
      },
      "source": [
        "#MNIST\n"
      ],
      "execution_count": 0,
      "outputs": []
    },
    {
      "cell_type": "code",
      "metadata": {
        "id": "3-2CremmP4Em",
        "colab_type": "code",
        "outputId": "d97fa695-5d27-4078-e991-5fd59e8f5c69",
        "colab": {
          "base_uri": "https://localhost:8080/",
          "height": 85
        }
      },
      "source": [
        "%matplotlib inline\n",
        "#Load and prepare data\n",
        "(x_train, y_train_num), (x_test, y_test_num) = mnist.load_data()\n",
        "\n",
        "#The input of th neural network is fixed, hence it is modified as shown\n",
        "x_train = x_train.reshape(x_train.shape[0], 28,28,1).astype('float32')\n",
        "x_test = x_test.reshape(x_test.shape[0], 28,28,1).astype('float32')\n",
        "\n",
        "\n",
        "x_train /= 255\n",
        "x_test /= 255\n",
        "\n",
        "y_train = np_utils.to_categorical(y_train_num, 10)\n",
        "y_test = np_utils.to_categorical(y_test_num,10)\n",
        "\n",
        "print('*** The Data ***')\n",
        "print ('x_train shape: ', x_train.shape)\n",
        "print(x_train.shape[0], 'train samples')\n",
        "print(x_test.shape[0], 'test samples')"
      ],
      "execution_count": 8,
      "outputs": [
        {
          "output_type": "stream",
          "text": [
            "*** The Data ***\n",
            "x_train shape:  (60000, 28, 28, 1)\n",
            "60000 train samples\n",
            "10000 test samples\n"
          ],
          "name": "stdout"
        }
      ]
    },
    {
      "cell_type": "code",
      "metadata": {
        "id": "ynghO7dcoOdC",
        "colab_type": "code",
        "colab": {}
      },
      "source": [
        "#DNN\n"
      ],
      "execution_count": 0,
      "outputs": []
    },
    {
      "cell_type": "code",
      "metadata": {
        "id": "rszs6_UuoPhZ",
        "colab_type": "code",
        "colab": {}
      },
      "source": [
        "TRAIN = False\n",
        "BATCH_SIZE = 32\n",
        "EPOCHS =10"
      ],
      "execution_count": 0,
      "outputs": []
    },
    {
      "cell_type": "code",
      "metadata": {
        "id": "uD9UjLOLoZdi",
        "colab_type": "code",
        "colab": {
          "base_uri": "https://localhost:8080/",
          "height": 1000
        },
        "outputId": "481ee126-64ad-4d70-b83e-2f41bce2c51d"
      },
      "source": [
        "#Define Type of Model\n",
        "model1 = Sequential()\n",
        "\n",
        "# Flatten Images to vector\n",
        "model1.add(Reshape((784,), input_shape=(28,28,1)))\n",
        "\n",
        "#Layer1\n",
        "model1.add(Dense(output_dim = 128, init='he_normal', bias=True))\n",
        "model1.add(Activation(\"relu\"))\n",
        "\n",
        "#Layer2\n",
        "model1.add(Dense(output_dim = 10, init='he_normal', bias=True))\n",
        "model1.add(Activation(\"softmax\"))\n",
        "\n",
        "#Loss and Optimizer. Cross Entropy because Multi class classification\n",
        "# Hyper parameters = Filtersize, stride, number of conv blocks, number of filters\n",
        "model1.compile(loss='categorical_crossentropy', optimizer='adam', metrics=['accuracy'])\n",
        "\n",
        "#Store Training Results\n",
        "early_stopping = keras.callbacks.EarlyStopping(monitor='val_acc', patience=3, verbose=1, mode= 'auto')\n",
        "callback_list=[early_stopping]\n",
        "\n",
        "#Train the model\n",
        "model1.fit(x_train, y_train, nb_epoch=EPOCHS, batch_size= BATCH_SIZE, \n",
        "           validation_data=(x_test, y_test), callbacks = callback_list, verbose=True)\n",
        "\n"
      ],
      "execution_count": 10,
      "outputs": [
        {
          "output_type": "stream",
          "text": [
            "WARNING:tensorflow:From /usr/local/lib/python3.6/dist-packages/keras/backend/tensorflow_backend.py:66: The name tf.get_default_graph is deprecated. Please use tf.compat.v1.get_default_graph instead.\n",
            "\n",
            "ERROR! Session/line number was not unique in database. History logging moved to new session 60\n",
            "WARNING:tensorflow:From /usr/local/lib/python3.6/dist-packages/keras/backend/tensorflow_backend.py:541: The name tf.placeholder is deprecated. Please use tf.compat.v1.placeholder instead.\n",
            "\n",
            "WARNING:tensorflow:From /usr/local/lib/python3.6/dist-packages/keras/backend/tensorflow_backend.py:4479: The name tf.truncated_normal is deprecated. Please use tf.random.truncated_normal instead.\n",
            "\n",
            "WARNING:tensorflow:From /usr/local/lib/python3.6/dist-packages/keras/optimizers.py:793: The name tf.train.Optimizer is deprecated. Please use tf.compat.v1.train.Optimizer instead.\n",
            "\n",
            "WARNING:tensorflow:From /usr/local/lib/python3.6/dist-packages/keras/backend/tensorflow_backend.py:3576: The name tf.log is deprecated. Please use tf.math.log instead.\n",
            "\n"
          ],
          "name": "stdout"
        },
        {
          "output_type": "stream",
          "text": [
            "/usr/local/lib/python3.6/dist-packages/ipykernel_launcher.py:7: UserWarning: Update your `Dense` call to the Keras 2 API: `Dense(units=128, kernel_initializer=\"he_normal\", use_bias=True)`\n",
            "  import sys\n",
            "/usr/local/lib/python3.6/dist-packages/ipykernel_launcher.py:11: UserWarning: Update your `Dense` call to the Keras 2 API: `Dense(units=10, kernel_initializer=\"he_normal\", use_bias=True)`\n",
            "  # This is added back by InteractiveShellApp.init_path()\n",
            "/usr/local/lib/python3.6/dist-packages/ipykernel_launcher.py:24: UserWarning: The `nb_epoch` argument in `fit` has been renamed `epochs`.\n"
          ],
          "name": "stderr"
        },
        {
          "output_type": "stream",
          "text": [
            "WARNING:tensorflow:From /tensorflow-1.15.0/python3.6/tensorflow_core/python/ops/math_grad.py:1424: where (from tensorflow.python.ops.array_ops) is deprecated and will be removed in a future version.\n",
            "Instructions for updating:\n",
            "Use tf.where in 2.0, which has the same broadcast rule as np.where\n",
            "WARNING:tensorflow:From /usr/local/lib/python3.6/dist-packages/keras/backend/tensorflow_backend.py:1033: The name tf.assign_add is deprecated. Please use tf.compat.v1.assign_add instead.\n",
            "\n",
            "WARNING:tensorflow:From /usr/local/lib/python3.6/dist-packages/keras/backend/tensorflow_backend.py:1020: The name tf.assign is deprecated. Please use tf.compat.v1.assign instead.\n",
            "\n",
            "WARNING:tensorflow:From /usr/local/lib/python3.6/dist-packages/keras/backend/tensorflow_backend.py:3005: The name tf.Session is deprecated. Please use tf.compat.v1.Session instead.\n",
            "\n",
            "Train on 60000 samples, validate on 10000 samples\n",
            "Epoch 1/10\n",
            "WARNING:tensorflow:From /usr/local/lib/python3.6/dist-packages/keras/backend/tensorflow_backend.py:190: The name tf.get_default_session is deprecated. Please use tf.compat.v1.get_default_session instead.\n",
            "\n",
            "WARNING:tensorflow:From /usr/local/lib/python3.6/dist-packages/keras/backend/tensorflow_backend.py:197: The name tf.ConfigProto is deprecated. Please use tf.compat.v1.ConfigProto instead.\n",
            "\n",
            "WARNING:tensorflow:From /usr/local/lib/python3.6/dist-packages/keras/backend/tensorflow_backend.py:207: The name tf.global_variables is deprecated. Please use tf.compat.v1.global_variables instead.\n",
            "\n",
            "WARNING:tensorflow:From /usr/local/lib/python3.6/dist-packages/keras/backend/tensorflow_backend.py:216: The name tf.is_variable_initialized is deprecated. Please use tf.compat.v1.is_variable_initialized instead.\n",
            "\n",
            "WARNING:tensorflow:From /usr/local/lib/python3.6/dist-packages/keras/backend/tensorflow_backend.py:223: The name tf.variables_initializer is deprecated. Please use tf.compat.v1.variables_initializer instead.\n",
            "\n",
            "60000/60000 [==============================] - 8s 130us/step - loss: 0.2593 - acc: 0.9263 - val_loss: 0.1390 - val_acc: 0.9586\n",
            "Epoch 2/10\n",
            "60000/60000 [==============================] - 6s 101us/step - loss: 0.1112 - acc: 0.9672 - val_loss: 0.1077 - val_acc: 0.9668\n",
            "Epoch 3/10\n",
            "60000/60000 [==============================] - 6s 100us/step - loss: 0.0771 - acc: 0.9765 - val_loss: 0.0843 - val_acc: 0.9737\n",
            "Epoch 4/10\n",
            "60000/60000 [==============================] - 6s 99us/step - loss: 0.0572 - acc: 0.9825 - val_loss: 0.0788 - val_acc: 0.9761\n",
            "Epoch 5/10\n",
            "60000/60000 [==============================] - 6s 100us/step - loss: 0.0445 - acc: 0.9860 - val_loss: 0.0874 - val_acc: 0.9733\n",
            "Epoch 6/10\n",
            "60000/60000 [==============================] - 6s 105us/step - loss: 0.0348 - acc: 0.9897 - val_loss: 0.0753 - val_acc: 0.9759\n",
            "Epoch 7/10\n",
            "60000/60000 [==============================] - 6s 99us/step - loss: 0.0277 - acc: 0.9913 - val_loss: 0.0761 - val_acc: 0.9792\n",
            "Epoch 8/10\n",
            "60000/60000 [==============================] - 6s 101us/step - loss: 0.0239 - acc: 0.9924 - val_loss: 0.0821 - val_acc: 0.9777\n",
            "Epoch 9/10\n",
            "60000/60000 [==============================] - 6s 100us/step - loss: 0.0175 - acc: 0.9944 - val_loss: 0.0951 - val_acc: 0.9720\n",
            "Epoch 10/10\n",
            "60000/60000 [==============================] - 6s 99us/step - loss: 0.0156 - acc: 0.9949 - val_loss: 0.0823 - val_acc: 0.9780\n",
            "Epoch 00010: early stopping\n"
          ],
          "name": "stdout"
        },
        {
          "output_type": "execute_result",
          "data": {
            "text/plain": [
              "<keras.callbacks.History at 0x7fa185d4bdd8>"
            ]
          },
          "metadata": {
            "tags": []
          },
          "execution_count": 10
        }
      ]
    },
    {
      "cell_type": "code",
      "metadata": {
        "id": "1buN6V-Es9q2",
        "colab_type": "code",
        "colab": {
          "base_uri": "https://localhost:8080/",
          "height": 51
        },
        "outputId": "76456979-7f86-4b85-9f82-bbac90cacce5"
      },
      "source": [
        "loss_and_metrics =model1.evaluate(x_test, y_test)\n",
        "print(loss_and_metrics)"
      ],
      "execution_count": 12,
      "outputs": [
        {
          "output_type": "stream",
          "text": [
            "10000/10000 [==============================] - 0s 25us/step\n",
            "[0.08233210531923396, 0.978]\n"
          ],
          "name": "stdout"
        }
      ]
    },
    {
      "cell_type": "code",
      "metadata": {
        "id": "wSk2fwhVtF5_",
        "colab_type": "code",
        "colab": {}
      },
      "source": [
        "# Vannila CNN"
      ],
      "execution_count": 0,
      "outputs": []
    },
    {
      "cell_type": "code",
      "metadata": {
        "id": "ZSEKIBORtdto",
        "colab_type": "code",
        "colab": {}
      },
      "source": [
        "TRAIN = False\n",
        "BATCH_SIZE = 32\n",
        "EPOCHS =10"
      ],
      "execution_count": 0,
      "outputs": []
    },
    {
      "cell_type": "code",
      "metadata": {
        "id": "LNZbGIjcti6l",
        "colab_type": "code",
        "colab": {
          "base_uri": "https://localhost:8080/",
          "height": 428
        },
        "outputId": "a91e7d3e-5613-4bee-9d10-8b7bb6f51078"
      },
      "source": [
        "#Define model\n",
        "\n",
        "model2 = Sequential()\n",
        "\n",
        "#Layer 1\n",
        "#Flattening is not required, because the input is a Tensor\n",
        "model2.add(Convolution2D(32,3,3, input_shape=(28,28,1)))\n",
        "model2.add(Activation('relu'))\n",
        "\n",
        "#Layer2\n",
        "model2.add(Convolution2D(32,3,3))\n",
        "model2.add(Activation('relu'))\n",
        "\n",
        "# Fully Connected Layer\n",
        "model2.add(Flatten())\n",
        "model2.add(Dense(128))\n",
        "model2.add(Activation('relu'))\n",
        "\n",
        "#Prediction Layer\n",
        "model2.add(Dense(10))\n",
        "model2.add(Activation('softmax'))\n",
        "\n",
        "#Loss and optimizer\n",
        "model2.compile(loss='categorical_crossentropy', optimizer='adam', metrics=['accuracy'])\n",
        "\n",
        "#Store Training results\n",
        "early_stoping =  keras.callbacks.EarlyStopping(monitor='val_acc', patience=10, verbose =1, mode='auto')\n",
        "callback_list=[early_stopping]\n",
        "\n",
        "# Train the model 2\n",
        "model2.fit(x_train, y_train, batch_size= BATCH_SIZE, nb_epoch=EPOCHS, validation_data=(x_test, y_test), callbacks= callback_list)"
      ],
      "execution_count": 15,
      "outputs": [
        {
          "output_type": "stream",
          "text": [
            "WARNING:tensorflow:From /usr/local/lib/python3.6/dist-packages/keras/backend/tensorflow_backend.py:4432: The name tf.random_uniform is deprecated. Please use tf.random.uniform instead.\n",
            "\n"
          ],
          "name": "stdout"
        },
        {
          "output_type": "stream",
          "text": [
            "/usr/local/lib/python3.6/dist-packages/ipykernel_launcher.py:6: UserWarning: Update your `Conv2D` call to the Keras 2 API: `Conv2D(32, (3, 3), input_shape=(28, 28, 1...)`\n",
            "  \n",
            "/usr/local/lib/python3.6/dist-packages/ipykernel_launcher.py:10: UserWarning: Update your `Conv2D` call to the Keras 2 API: `Conv2D(32, (3, 3))`\n",
            "  # Remove the CWD from sys.path while we load stuff.\n",
            "/usr/local/lib/python3.6/dist-packages/ipykernel_launcher.py:30: UserWarning: The `nb_epoch` argument in `fit` has been renamed `epochs`.\n"
          ],
          "name": "stderr"
        },
        {
          "output_type": "stream",
          "text": [
            "ERROR! Session/line number was not unique in database. History logging moved to new session 62\n",
            "Train on 60000 samples, validate on 10000 samples\n",
            "Epoch 1/10\n",
            "60000/60000 [==============================] - 165s 3ms/step - loss: 0.1151 - acc: 0.9650 - val_loss: 0.0495 - val_acc: 0.9826\n",
            "Epoch 2/10\n",
            "60000/60000 [==============================] - 165s 3ms/step - loss: 0.0383 - acc: 0.9881 - val_loss: 0.0472 - val_acc: 0.9839\n",
            "Epoch 3/10\n",
            "60000/60000 [==============================] - 165s 3ms/step - loss: 0.0232 - acc: 0.9925 - val_loss: 0.0355 - val_acc: 0.9887\n",
            "Epoch 4/10\n",
            "60000/60000 [==============================] - 165s 3ms/step - loss: 0.0147 - acc: 0.9951 - val_loss: 0.0580 - val_acc: 0.9837\n",
            "Epoch 5/10\n",
            "60000/60000 [==============================] - 166s 3ms/step - loss: 0.0112 - acc: 0.9962 - val_loss: 0.0549 - val_acc: 0.9865\n",
            "Epoch 6/10\n",
            "60000/60000 [==============================] - 165s 3ms/step - loss: 0.0082 - acc: 0.9975 - val_loss: 0.0492 - val_acc: 0.9875\n",
            "Epoch 00006: early stopping\n"
          ],
          "name": "stdout"
        },
        {
          "output_type": "execute_result",
          "data": {
            "text/plain": [
              "<keras.callbacks.History at 0x7fa17ec249b0>"
            ]
          },
          "metadata": {
            "tags": []
          },
          "execution_count": 15
        }
      ]
    },
    {
      "cell_type": "code",
      "metadata": {
        "id": "4ALrXBtMvwlv",
        "colab_type": "code",
        "colab": {}
      },
      "source": [
        "# Vannila CNN + Pooling + Dropout"
      ],
      "execution_count": 0,
      "outputs": []
    },
    {
      "cell_type": "code",
      "metadata": {
        "id": "MnIFZHHAwGVs",
        "colab_type": "code",
        "colab": {}
      },
      "source": [
        "BATCH_SIZE=32\n",
        "EPOCHS=10\n"
      ],
      "execution_count": 0,
      "outputs": []
    },
    {
      "cell_type": "code",
      "metadata": {
        "id": "CWa_eRriwLxN",
        "colab_type": "code",
        "colab": {
          "base_uri": "https://localhost:8080/",
          "height": 496
        },
        "outputId": "f58d59be-d3d0-4d42-b6be-3a74e789af68"
      },
      "source": [
        "#Define Model\n",
        "model3= Sequential()\n",
        "\n",
        "#1st Conv Layer\n",
        "model3.add(Convolution2D(32,3,3, input_shape=(28,28,1)))\n",
        "model3.add(Activation('relu'))\n",
        "\n",
        "#2nd Conv Layer\n",
        "model3.add(Convolution2D(32,3,3))\n",
        "model3.add(Activation('relu'))\n",
        "\n",
        "#Max pooling\n",
        "model3.add(MaxPooling2D(pool_size=(2,2)))\n",
        "\n",
        "#Dropout\n",
        "model3.add(Dropout(0.25))\n",
        "\n",
        "#Fully Connected Layer\n",
        "model3.add(Flatten())\n",
        "model3.add(Dense(128))\n",
        "model3.add(Activation('relu'))\n",
        "\n",
        "#More Dropout\n",
        "model3.add(Dense(10))\n",
        "model3.add(Activation('softmax'))\n",
        "\n",
        "#Loss and optimizer\n",
        "model3.compile(loss= 'categorical_crossentropy', optimizer='adam', metrics=['accuracy'])\n",
        "\n",
        "#Store Training Results\n",
        "early_stopping = keras.callbacks.EarlyStopping(monitor='val_acc', patience=7, verbose=1, mode='auto')\n",
        "callback_list=[early_stopping]\n",
        "#Train the model\n",
        "model3.fit(x_train, y_train, batch_size= BATCH_SIZE, nb_epoch=EPOCHS, validation_data=(x_test, y_test), callbacks=callback_list)"
      ],
      "execution_count": 23,
      "outputs": [
        {
          "output_type": "stream",
          "text": [
            "/usr/local/lib/python3.6/dist-packages/ipykernel_launcher.py:4: UserWarning: Update your `Conv2D` call to the Keras 2 API: `Conv2D(32, (3, 3), input_shape=(28, 28, 1...)`\n",
            "  after removing the cwd from sys.path.\n",
            "/usr/local/lib/python3.6/dist-packages/ipykernel_launcher.py:8: UserWarning: Update your `Conv2D` call to the Keras 2 API: `Conv2D(32, (3, 3))`\n",
            "  \n",
            "/usr/local/lib/python3.6/dist-packages/ipykernel_launcher.py:33: UserWarning: The `nb_epoch` argument in `fit` has been renamed `epochs`.\n"
          ],
          "name": "stderr"
        },
        {
          "output_type": "stream",
          "text": [
            "Train on 60000 samples, validate on 10000 samples\n",
            "Epoch 1/10\n",
            "60000/60000 [==============================] - 121s 2ms/step - loss: 0.1326 - acc: 0.9591 - val_loss: 0.0464 - val_acc: 0.9850\n",
            "Epoch 2/10\n",
            "60000/60000 [==============================] - 120s 2ms/step - loss: 0.0466 - acc: 0.9853 - val_loss: 0.0342 - val_acc: 0.9884\n",
            "Epoch 3/10\n",
            "60000/60000 [==============================] - 120s 2ms/step - loss: 0.0314 - acc: 0.9901 - val_loss: 0.0402 - val_acc: 0.9882\n",
            "Epoch 4/10\n",
            "60000/60000 [==============================] - 120s 2ms/step - loss: 0.0239 - acc: 0.9921 - val_loss: 0.0325 - val_acc: 0.9896\n",
            "Epoch 5/10\n",
            "60000/60000 [==============================] - 120s 2ms/step - loss: 0.0187 - acc: 0.9938 - val_loss: 0.0415 - val_acc: 0.9879\n",
            "Epoch 6/10\n",
            "60000/60000 [==============================] - 122s 2ms/step - loss: 0.0137 - acc: 0.9953 - val_loss: 0.0388 - val_acc: 0.9883\n",
            "Epoch 7/10\n",
            "60000/60000 [==============================] - 121s 2ms/step - loss: 0.0131 - acc: 0.9958 - val_loss: 0.0516 - val_acc: 0.9879\n",
            "Epoch 8/10\n",
            "60000/60000 [==============================] - 120s 2ms/step - loss: 0.0110 - acc: 0.9961 - val_loss: 0.0295 - val_acc: 0.9919\n",
            "Epoch 9/10\n",
            "60000/60000 [==============================] - 120s 2ms/step - loss: 0.0098 - acc: 0.9968 - val_loss: 0.0386 - val_acc: 0.9892\n",
            "Epoch 10/10\n",
            "60000/60000 [==============================] - 120s 2ms/step - loss: 0.0083 - acc: 0.9970 - val_loss: 0.0381 - val_acc: 0.9904\n"
          ],
          "name": "stdout"
        },
        {
          "output_type": "execute_result",
          "data": {
            "text/plain": [
              "<keras.callbacks.History at 0x7fa17e8aa080>"
            ]
          },
          "metadata": {
            "tags": []
          },
          "execution_count": 23
        }
      ]
    }
  ]
}