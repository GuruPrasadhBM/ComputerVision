{
  "nbformat": 4,
  "nbformat_minor": 0,
  "metadata": {
    "colab": {
      "name": "4_SVHN_CNN_Transfer_Learning .ipynb",
      "provenance": [],
      "collapsed_sections": [],
      "toc_visible": true
    },
    "kernelspec": {
      "display_name": "Python 2",
      "language": "python",
      "name": "python2"
    },
    "accelerator": "GPU"
  },
  "cells": [
    {
      "cell_type": "markdown",
      "metadata": {
        "colab_type": "text",
        "id": "LxjUOqbicMOa"
      },
      "source": [
        "<h1>Classification of SVHN using Transfer Learning from pre-trained MNIST CNN</h1>\n",
        "\n",
        "---\n",
        "\n"
      ]
    },
    {
      "cell_type": "markdown",
      "metadata": {
        "colab_type": "text",
        "id": "GTQlTR2Scks4"
      },
      "source": [
        "# Importing Keras Modules\n"
      ]
    },
    {
      "cell_type": "code",
      "metadata": {
        "colab_type": "code",
        "id": "1ve46hnH315r",
        "outputId": "7f9872c2-cfc6-4fc3-959e-ced46a29989d",
        "colab": {
          "base_uri": "https://localhost:8080/",
          "height": 34
        }
      },
      "source": [
        "#Importing important modules\n",
        "import keras\n",
        "from keras.datasets import mnist\n",
        "from keras.models import Sequential\n",
        "from keras.layers import Dense, Dropout, Flatten\n",
        "from keras.layers import Conv2D, MaxPooling2D"
      ],
      "execution_count": 1,
      "outputs": [
        {
          "output_type": "stream",
          "text": [
            "Using TensorFlow backend.\n"
          ],
          "name": "stderr"
        }
      ]
    },
    {
      "cell_type": "code",
      "metadata": {
        "id": "xYhve4_v7j9B",
        "colab_type": "code",
        "outputId": "a20b90e8-b0ab-4c49-eaea-dd4923ee7e3b",
        "colab": {
          "base_uri": "https://localhost:8080/",
          "height": 54
        }
      },
      "source": [
        "from google.colab import drive\n",
        "drive.mount('/content/drive')\n"
      ],
      "execution_count": 2,
      "outputs": [
        {
          "output_type": "stream",
          "text": [
            "Drive already mounted at /content/drive; to attempt to forcibly remount, call drive.mount(\"/content/drive\", force_remount=True).\n"
          ],
          "name": "stdout"
        }
      ]
    },
    {
      "cell_type": "code",
      "metadata": {
        "id": "4P0dVDj7izXQ",
        "colab_type": "code",
        "outputId": "004bbc20-544b-4be2-be62-94308d5b09c3",
        "colab": {
          "base_uri": "https://localhost:8080/",
          "height": 34
        }
      },
      "source": [
        "import os\n",
        "os.listdir('.')"
      ],
      "execution_count": 3,
      "outputs": [
        {
          "output_type": "execute_result",
          "data": {
            "text/plain": [
              "['.config', 'drive', 'sample_data']"
            ]
          },
          "metadata": {
            "tags": []
          },
          "execution_count": 3
        }
      ]
    },
    {
      "cell_type": "code",
      "metadata": {
        "id": "jYMQsT0ae5wK",
        "colab_type": "code",
        "colab": {}
      },
      "source": [
        "import os\n",
        "os.chdir('/content/drive/My Drive/Colab Notebooks/ComputerVision')"
      ],
      "execution_count": 0,
      "outputs": []
    },
    {
      "cell_type": "markdown",
      "metadata": {
        "colab_type": "text",
        "id": "OKVkkLaLdPGU"
      },
      "source": [
        "# Loading the Dataset"
      ]
    },
    {
      "cell_type": "markdown",
      "metadata": {
        "colab_type": "text",
        "id": "JK0ZRJoxhrFe"
      },
      "source": [
        "<h3>Load SVHN dataset from a h5 file</h3>"
      ]
    },
    {
      "cell_type": "code",
      "metadata": {
        "colab_type": "code",
        "id": "toLxzg_i3XOX",
        "colab": {}
      },
      "source": [
        "import h5py\n",
        "import numpy as np\n",
        "\n",
        "# Open the file as readonly. The file should be present inside a directory called \"data\" in the same folder as code\n",
        "h5f = h5py.File('SVHN_single_grey1-2.h5', 'r')\n",
        "\n",
        "# Load the training, test and validation set\n",
        "x_train = h5f['X_train'][:]\n",
        "y_train = h5f['y_train'][:]\n",
        "x_test = h5f['X_test'][:]\n",
        "y_test = h5f['y_test'][:]\n",
        "\n",
        "\n",
        "# Close this file\n",
        "h5f.close()\n"
      ],
      "execution_count": 0,
      "outputs": []
    },
    {
      "cell_type": "code",
      "metadata": {
        "id": "ofmOn7YOWDC0",
        "colab_type": "code",
        "outputId": "6ad6e864-becd-4aab-ff13-b19c0b990811",
        "colab": {
          "base_uri": "https://localhost:8080/",
          "height": 34
        }
      },
      "source": [
        "x_test.shape"
      ],
      "execution_count": 6,
      "outputs": [
        {
          "output_type": "execute_result",
          "data": {
            "text/plain": [
              "(18000, 32, 32)"
            ]
          },
          "metadata": {
            "tags": []
          },
          "execution_count": 6
        }
      ]
    },
    {
      "cell_type": "markdown",
      "metadata": {
        "colab_type": "text",
        "id": "PEcVz-OotHWM"
      },
      "source": [
        "<h4>Visualizing the dataset</h4>"
      ]
    },
    {
      "cell_type": "code",
      "metadata": {
        "colab_type": "code",
        "id": "dqpGua7ZqUdV",
        "outputId": "1e66bdd2-99df-4c04-ea03-04b0aed27d7d",
        "colab": {
          "base_uri": "https://localhost:8080/",
          "height": 486
        }
      },
      "source": [
        "%matplotlib inline\n",
        "\n",
        "import matplotlib.pyplot as plt\n",
        "w=10\n",
        "h=10\n",
        "fig=plt.figure(figsize=(8, 8))\n",
        "columns = 10\n",
        "rows = 10\n",
        "for i in range(1, columns*rows +1):\n",
        "    img = x_test[i]\n",
        "    fig.add_subplot(rows, columns, i)\n",
        "    plt.imshow(img, cmap='gray')\n",
        "plt.show()"
      ],
      "execution_count": 7,
      "outputs": [
        {
          "output_type": "display_data",
          "data": {
            "image/png": "[encoded data removed]",
            "text/plain": [
              "<Figure size 576x576 with 100 Axes>"
            ]
          },
          "metadata": {
            "tags": [],
            "needs_background": "light"
          }
        }
      ]
    },
    {
      "cell_type": "code",
      "metadata": {
        "colab_type": "code",
        "id": "tAfteTtCNOwd",
        "outputId": "e1babff7-88b7-4d9a-de6b-85f3515248f0",
        "colab": {
          "base_uri": "https://localhost:8080/",
          "height": 34
        }
      },
      "source": [
        "print(x_train.shape)\n"
      ],
      "execution_count": 8,
      "outputs": [
        {
          "output_type": "stream",
          "text": [
            "(42000, 32, 32)\n"
          ],
          "name": "stdout"
        }
      ]
    },
    {
      "cell_type": "code",
      "metadata": {
        "id": "VaO357nm8xav",
        "colab_type": "code",
        "outputId": "ca918860-ee2e-4c93-911e-b2748cabdd25",
        "colab": {
          "base_uri": "https://localhost:8080/",
          "height": 34
        }
      },
      "source": [
        "print(y_train.shape)"
      ],
      "execution_count": 9,
      "outputs": [
        {
          "output_type": "stream",
          "text": [
            "(42000,)\n"
          ],
          "name": "stdout"
        }
      ]
    },
    {
      "cell_type": "code",
      "metadata": {
        "id": "e1-rAT1n8c5Z",
        "colab_type": "code",
        "colab": {}
      },
      "source": [
        "x_train = x_train[0:22000,:]\n",
        "y_train = y_train[0:22000]\n",
        "x_test = x_test[0:8000,:]\n",
        "y_test = y_test[0:8000]"
      ],
      "execution_count": 0,
      "outputs": []
    },
    {
      "cell_type": "code",
      "metadata": {
        "id": "DS3nDpol8g01",
        "colab_type": "code",
        "outputId": "6473e563-dfef-4078-fc2d-9a7d1c1bab00",
        "colab": {
          "base_uri": "https://localhost:8080/",
          "height": 85
        }
      },
      "source": [
        "print(x_train.shape)\n",
        "print(y_train.shape)\n",
        "print(x_test.shape)\n",
        "print(y_test.shape)"
      ],
      "execution_count": 11,
      "outputs": [
        {
          "output_type": "stream",
          "text": [
            "(22000, 32, 32)\n",
            "(22000,)\n",
            "(8000, 32, 32)\n",
            "(8000,)\n"
          ],
          "name": "stdout"
        }
      ]
    },
    {
      "cell_type": "code",
      "metadata": {
        "colab_type": "code",
        "id": "46fuZzc6QZxx",
        "outputId": "a829c469-fdbd-41f1-876b-5989ed45cbad",
        "colab": {
          "base_uri": "https://localhost:8080/",
          "height": 34
        }
      },
      "source": [
        "print(x_train.dtype)"
      ],
      "execution_count": 12,
      "outputs": [
        {
          "output_type": "stream",
          "text": [
            "float32\n"
          ],
          "name": "stdout"
        }
      ]
    },
    {
      "cell_type": "code",
      "metadata": {
        "id": "W_UWQi27WjIJ",
        "colab_type": "code",
        "outputId": "7b039e5d-225b-4b92-fea1-1a7c884c554f",
        "colab": {
          "base_uri": "https://localhost:8080/",
          "height": 34
        }
      },
      "source": [
        "print(y_train.dtype)"
      ],
      "execution_count": 13,
      "outputs": [
        {
          "output_type": "stream",
          "text": [
            "uint8\n"
          ],
          "name": "stdout"
        }
      ]
    },
    {
      "cell_type": "markdown",
      "metadata": {
        "colab_type": "text",
        "id": "0D29eowNhmU8"
      },
      "source": [
        "<h3>Resize all the train and test inputs to 28X28, to match with MNIST CNN model's input size</h3>\n",
        "\n"
      ]
    },
    {
      "cell_type": "code",
      "metadata": {
        "colab_type": "code",
        "id": "2IpV7QiEN6O2",
        "outputId": "78d66e4a-1280-4e43-d3a5-e03a0c6b84c8",
        "colab": {
          "base_uri": "https://localhost:8080/",
          "height": 51
        }
      },
      "source": [
        "#Importing opencv module for the resizing function\n",
        "import cv2\n",
        "\n",
        "#Create a resized dataset for training and testing inputs with corresponding size. Here we are resizing it to 28X28 (same input size as MNIST)\n",
        "x_train_res = np.zeros((x_train.shape[0],28,28), dtype=np.float32)\n",
        "for i in range(x_train.shape[0]):\n",
        "  #using cv2.resize to resize each train example to 28X28 size using Cubic interpolation\n",
        "  x_train_res[i,:,:] = cv2.resize(x_train[i], dsize=(28, 28), interpolation=cv2.INTER_CUBIC)\n",
        "\n",
        "x_test_res = np.zeros((x_test.shape[0],28,28), dtype=np.float32)\n",
        "for i in range(x_test.shape[0]):\n",
        "  #using cv2.resize to resize each test example to 28X28 size using Cubic interpolation\n",
        "  x_test_res[i,:,:] = cv2.resize(x_test[i], dsize=(28, 28), interpolation=cv2.INTER_CUBIC)\n",
        "  \n",
        "#We don't need the original dataset anynmore so we can clear up memory consumed by original dataset\n",
        "del x_train\n",
        "del x_test\n",
        "\n",
        "print(x_train_res.shape)\n",
        "print(x_test_res.shape)\n"
      ],
      "execution_count": 14,
      "outputs": [
        {
          "output_type": "stream",
          "text": [
            "(22000, 28, 28)\n",
            "(8000, 28, 28)\n"
          ],
          "name": "stdout"
        }
      ]
    },
    {
      "cell_type": "markdown",
      "metadata": {
        "colab_type": "text",
        "id": "vHjUmD84t4ZB"
      },
      "source": [
        "<h3>Reshape train and test sets into shapes compatible with keras models</h3>\n",
        "\n",
        "<h4>Keras expects data to be in the format (N_E.N_H,N_W,N_C)  N_E = Number of Examples, N_H = height, N_W = Width, N_C = Number of Channels.</h4>\n"
      ]
    },
    {
      "cell_type": "code",
      "metadata": {
        "colab_type": "code",
        "id": "Jv3nQR9L4WE2",
        "colab": {}
      },
      "source": [
        "# input image dimensions\n",
        "img_rows, img_cols = 28, 28\n",
        "\n",
        "\n",
        "#Keras expects data to be in the format (N_E.N_H,N_W,N_C)  N_E = Number of Examples, N_H = height, N_W = Width, N_C = Number of Channels.\n",
        "x_train = x_train_res.reshape(x_train_res.shape[0], img_rows, img_cols, 1)\n",
        "x_test = x_test_res.reshape(x_test_res.shape[0], img_rows, img_cols, 1)\n",
        "input_shape = (img_rows, img_cols, 1)"
      ],
      "execution_count": 0,
      "outputs": []
    },
    {
      "cell_type": "markdown",
      "metadata": {
        "colab_type": "text",
        "id": "kMGQuoyNiqmL"
      },
      "source": [
        "<h3>Pre-processing the dataset</h3>\n",
        "<h4>Normalizing the input</h4>"
      ]
    },
    {
      "cell_type": "code",
      "metadata": {
        "colab_type": "code",
        "id": "M1kXqqfV4d_b",
        "outputId": "cb915102-65ca-4f7c-dec1-3b4b803ee4eb",
        "colab": {
          "base_uri": "https://localhost:8080/",
          "height": 68
        }
      },
      "source": [
        "x_train = x_train.astype('float32')\n",
        "x_test = x_test.astype('float32')\n",
        "\n",
        "#Normalizing the input\n",
        "x_train /= 255\n",
        "x_test /= 255\n",
        "print('x_train shape:', x_train.shape)\n",
        "print(x_train.shape[0], 'train samples')\n",
        "print(x_test.shape[0], 'test samples')"
      ],
      "execution_count": 16,
      "outputs": [
        {
          "output_type": "stream",
          "text": [
            "('x_train shape:', (22000, 28, 28, 1))\n",
            "(22000, 'train samples')\n",
            "(8000, 'test samples')\n"
          ],
          "name": "stdout"
        }
      ]
    },
    {
      "cell_type": "code",
      "metadata": {
        "id": "4zYu2bTEIWpX",
        "colab_type": "code",
        "outputId": "6d57dcad-f638-4d87-d917-74776c5435f8",
        "colab": {
          "base_uri": "https://localhost:8080/",
          "height": 1000
        }
      },
      "source": [
        "x_train[1,]"
      ],
      "execution_count": 17,
      "outputs": [
        {
          "output_type": "execute_result",
          "data": {
            "text/plain": [
              "array([[[0.34097406],\n",
              "        [0.34242254],\n",
              "        [0.3470469 ],\n",
              "        [0.34348562],\n",
              "        [0.34356683],\n",
              "        [0.34848076],\n",
              "        [0.35170606],\n",
              "        [0.34317613],\n",
              "        [0.34242588],\n",
              "        [0.35451496],\n",
              "        [0.39749277],\n",
              "        [0.41898295],\n",
              "        [0.41718283],\n",
              "        [0.41458613],\n",
              "        [0.4107587 ],\n",
              "        [0.41049105],\n",
              "        [0.40383035],\n",
              "        [0.39945167],\n",
              "        [0.40166098],\n",
              "        [0.39574537],\n",
              "        [0.3940963 ],\n",
              "        [0.40298122],\n",
              "        [0.40516555],\n",
              "        [0.40489656],\n",
              "        [0.40680167],\n",
              "        [0.37442723],\n",
              "        [0.35120994],\n",
              "        [0.36180183]],\n",
              "\n",
              "       [[0.3392593 ],\n",
              "        [0.34001857],\n",
              "        [0.34252626],\n",
              "        [0.3478088 ],\n",
              "        [0.34796795],\n",
              "        [0.34972295],\n",
              "        [0.35162058],\n",
              "        [0.34385112],\n",
              "        [0.34484893],\n",
              "        [0.35325012],\n",
              "        [0.3972072 ],\n",
              "        [0.4196211 ],\n",
              "        [0.41766626],\n",
              "        [0.41485935],\n",
              "        [0.4051224 ],\n",
              "        [0.40544885],\n",
              "        [0.40415695],\n",
              "        [0.40166402],\n",
              "        [0.40562582],\n",
              "        [0.40518636],\n",
              "        [0.4010366 ],\n",
              "        [0.40736452],\n",
              "        [0.40490797],\n",
              "        [0.39479768],\n",
              "        [0.38660747],\n",
              "        [0.35338074],\n",
              "        [0.32485464],\n",
              "        [0.32249406]],\n",
              "\n",
              "       [[0.33734903],\n",
              "        [0.33783934],\n",
              "        [0.3380447 ],\n",
              "        [0.34517887],\n",
              "        [0.34919885],\n",
              "        [0.35347238],\n",
              "        [0.3510165 ],\n",
              "        [0.3266519 ],\n",
              "        [0.30180612],\n",
              "        [0.29632923],\n",
              "        [0.33722132],\n",
              "        [0.3765085 ],\n",
              "        [0.40931818],\n",
              "        [0.4227208 ],\n",
              "        [0.4102648 ],\n",
              "        [0.40155306],\n",
              "        [0.4056113 ],\n",
              "        [0.4067626 ],\n",
              "        [0.41124266],\n",
              "        [0.36478722],\n",
              "        [0.29257107],\n",
              "        [0.28331393],\n",
              "        [0.26719275],\n",
              "        [0.24853979],\n",
              "        [0.21942563],\n",
              "        [0.20361799],\n",
              "        [0.19557561],\n",
              "        [0.17845072]],\n",
              "\n",
              "       [[0.3449813 ],\n",
              "        [0.34501278],\n",
              "        [0.34110016],\n",
              "        [0.3438008 ],\n",
              "        [0.34915015],\n",
              "        [0.3233483 ],\n",
              "        [0.26278678],\n",
              "        [0.2044211 ],\n",
              "        [0.17368941],\n",
              "        [0.16009653],\n",
              "        [0.16778642],\n",
              "        [0.20134981],\n",
              "        [0.2767874 ],\n",
              "        [0.38054767],\n",
              "        [0.42489937],\n",
              "        [0.41481796],\n",
              "        [0.4060909 ],\n",
              "        [0.4032362 ],\n",
              "        [0.41055793],\n",
              "        [0.29104444],\n",
              "        [0.14309877],\n",
              "        [0.13779719],\n",
              "        [0.13772844],\n",
              "        [0.13301581],\n",
              "        [0.1332227 ],\n",
              "        [0.12687209],\n",
              "        [0.12495752],\n",
              "        [0.12704845]],\n",
              "\n",
              "       [[0.34035835],\n",
              "        [0.33799627],\n",
              "        [0.34337452],\n",
              "        [0.3528366 ],\n",
              "        [0.3040573 ],\n",
              "        [0.2206301 ],\n",
              "        [0.15489739],\n",
              "        [0.12391139],\n",
              "        [0.1312899 ],\n",
              "        [0.13291754],\n",
              "        [0.12337222],\n",
              "        [0.11898392],\n",
              "        [0.13341315],\n",
              "        [0.21342699],\n",
              "        [0.34344435],\n",
              "        [0.41418967],\n",
              "        [0.40781257],\n",
              "        [0.40361026],\n",
              "        [0.41976833],\n",
              "        [0.30387807],\n",
              "        [0.13179924],\n",
              "        [0.11869361],\n",
              "        [0.12954739],\n",
              "        [0.12552868],\n",
              "        [0.13054456],\n",
              "        [0.13686626],\n",
              "        [0.15187101],\n",
              "        [0.15431975]],\n",
              "\n",
              "       [[0.32652402],\n",
              "        [0.34648618],\n",
              "        [0.35049137],\n",
              "        [0.32189554],\n",
              "        [0.21466906],\n",
              "        [0.14487264],\n",
              "        [0.1409593 ],\n",
              "        [0.14746296],\n",
              "        [0.1632837 ],\n",
              "        [0.17905346],\n",
              "        [0.1811165 ],\n",
              "        [0.15397365],\n",
              "        [0.13725889],\n",
              "        [0.13397397],\n",
              "        [0.1860152 ],\n",
              "        [0.314724  ],\n",
              "        [0.40660533],\n",
              "        [0.40955237],\n",
              "        [0.41242543],\n",
              "        [0.35712627],\n",
              "        [0.26453426],\n",
              "        [0.26821068],\n",
              "        [0.28037715],\n",
              "        [0.28245106],\n",
              "        [0.29079828],\n",
              "        [0.30431008],\n",
              "        [0.32551458],\n",
              "        [0.3094927 ]],\n",
              "\n",
              "       [[0.3338808 ],\n",
              "        [0.32918414],\n",
              "        [0.3374813 ],\n",
              "        [0.26305655],\n",
              "        [0.15643038],\n",
              "        [0.13756134],\n",
              "        [0.14956725],\n",
              "        [0.24465755],\n",
              "        [0.31913403],\n",
              "        [0.33772212],\n",
              "        [0.31894168],\n",
              "        [0.2570335 ],\n",
              "        [0.1851222 ],\n",
              "        [0.13508454],\n",
              "        [0.14565904],\n",
              "        [0.2702355 ],\n",
              "        [0.41046926],\n",
              "        [0.40673468],\n",
              "        [0.39200667],\n",
              "        [0.39849046],\n",
              "        [0.40171325],\n",
              "        [0.40213296],\n",
              "        [0.39186394],\n",
              "        [0.39532286],\n",
              "        [0.3957751 ],\n",
              "        [0.39997557],\n",
              "        [0.40234244],\n",
              "        [0.2961218 ]],\n",
              "\n",
              "       [[0.3352613 ],\n",
              "        [0.3270406 ],\n",
              "        [0.30516028],\n",
              "        [0.20246603],\n",
              "        [0.14527872],\n",
              "        [0.14855577],\n",
              "        [0.22163302],\n",
              "        [0.33366206],\n",
              "        [0.3585962 ],\n",
              "        [0.34422395],\n",
              "        [0.3281721 ],\n",
              "        [0.34691447],\n",
              "        [0.33260587],\n",
              "        [0.23955384],\n",
              "        [0.23553872],\n",
              "        [0.38493428],\n",
              "        [0.4125104 ],\n",
              "        [0.3946026 ],\n",
              "        [0.393253  ],\n",
              "        [0.40121162],\n",
              "        [0.4025742 ],\n",
              "        [0.39835423],\n",
              "        [0.39968005],\n",
              "        [0.40138847],\n",
              "        [0.3935874 ],\n",
              "        [0.40487233],\n",
              "        [0.37995255],\n",
              "        [0.2067162 ]],\n",
              "\n",
              "       [[0.33380377],\n",
              "        [0.3342056 ],\n",
              "        [0.2752791 ],\n",
              "        [0.16536681],\n",
              "        [0.13155048],\n",
              "        [0.15252183],\n",
              "        [0.2841236 ],\n",
              "        [0.33715686],\n",
              "        [0.34064892],\n",
              "        [0.3312958 ],\n",
              "        [0.31655696],\n",
              "        [0.33099073],\n",
              "        [0.37602645],\n",
              "        [0.3971581 ],\n",
              "        [0.39160562],\n",
              "        [0.40327817],\n",
              "        [0.39342186],\n",
              "        [0.3856482 ],\n",
              "        [0.3966545 ],\n",
              "        [0.39257047],\n",
              "        [0.3885983 ],\n",
              "        [0.38664886],\n",
              "        [0.3945352 ],\n",
              "        [0.3991102 ],\n",
              "        [0.39871648],\n",
              "        [0.406103  ],\n",
              "        [0.30555603],\n",
              "        [0.1701142 ]],\n",
              "\n",
              "       [[0.33613724],\n",
              "        [0.33841226],\n",
              "        [0.25069878],\n",
              "        [0.14816564],\n",
              "        [0.12678882],\n",
              "        [0.17425622],\n",
              "        [0.30372372],\n",
              "        [0.33804983],\n",
              "        [0.33573636],\n",
              "        [0.33125696],\n",
              "        [0.3223304 ],\n",
              "        [0.32360515],\n",
              "        [0.3690008 ],\n",
              "        [0.4067081 ],\n",
              "        [0.41147622],\n",
              "        [0.3947695 ],\n",
              "        [0.38023514],\n",
              "        [0.38363633],\n",
              "        [0.39111328],\n",
              "        [0.39078125],\n",
              "        [0.386295  ],\n",
              "        [0.39072073],\n",
              "        [0.3913867 ],\n",
              "        [0.39396426],\n",
              "        [0.40256932],\n",
              "        [0.37223193],\n",
              "        [0.22597675],\n",
              "        [0.14753123]],\n",
              "\n",
              "       [[0.32981992],\n",
              "        [0.3325561 ],\n",
              "        [0.23017564],\n",
              "        [0.14161006],\n",
              "        [0.12123712],\n",
              "        [0.20036434],\n",
              "        [0.32345697],\n",
              "        [0.2935723 ],\n",
              "        [0.25389487],\n",
              "        [0.23921642],\n",
              "        [0.22379173],\n",
              "        [0.22097751],\n",
              "        [0.25587663],\n",
              "        [0.3141132 ],\n",
              "        [0.3626314 ],\n",
              "        [0.3886226 ],\n",
              "        [0.3816219 ],\n",
              "        [0.38440448],\n",
              "        [0.39067355],\n",
              "        [0.38228554],\n",
              "        [0.38873565],\n",
              "        [0.39155632],\n",
              "        [0.38870507],\n",
              "        [0.3947339 ],\n",
              "        [0.40545934],\n",
              "        [0.3112978 ],\n",
              "        [0.17202526],\n",
              "        [0.13634412]],\n",
              "\n",
              "       [[0.3361081 ],\n",
              "        [0.32651505],\n",
              "        [0.22079524],\n",
              "        [0.13714571],\n",
              "        [0.13232578],\n",
              "        [0.19331577],\n",
              "        [0.21960907],\n",
              "        [0.16123083],\n",
              "        [0.14873886],\n",
              "        [0.14248633],\n",
              "        [0.1369986 ],\n",
              "        [0.13769811],\n",
              "        [0.1419683 ],\n",
              "        [0.16011004],\n",
              "        [0.2130833 ],\n",
              "        [0.32011288],\n",
              "        [0.39636928],\n",
              "        [0.39658427],\n",
              "        [0.3980776 ],\n",
              "        [0.38734978],\n",
              "        [0.38037142],\n",
              "        [0.38487995],\n",
              "        [0.38843352],\n",
              "        [0.39621094],\n",
              "        [0.3873287 ],\n",
              "        [0.23455472],\n",
              "        [0.14814018],\n",
              "        [0.14092797]],\n",
              "\n",
              "       [[0.34156364],\n",
              "        [0.3194381 ],\n",
              "        [0.2208315 ],\n",
              "        [0.13973482],\n",
              "        [0.13894588],\n",
              "        [0.15041831],\n",
              "        [0.14137226],\n",
              "        [0.12534833],\n",
              "        [0.12187672],\n",
              "        [0.12756148],\n",
              "        [0.13341258],\n",
              "        [0.1299285 ],\n",
              "        [0.13569863],\n",
              "        [0.14193082],\n",
              "        [0.14298855],\n",
              "        [0.19509102],\n",
              "        [0.3393636 ],\n",
              "        [0.39732835],\n",
              "        [0.39796782],\n",
              "        [0.38662025],\n",
              "        [0.38072875],\n",
              "        [0.38277256],\n",
              "        [0.38485062],\n",
              "        [0.39137822],\n",
              "        [0.3325164 ],\n",
              "        [0.18762483],\n",
              "        [0.13532606],\n",
              "        [0.16985053]],\n",
              "\n",
              "       [[0.34095097],\n",
              "        [0.31627154],\n",
              "        [0.23306371],\n",
              "        [0.14921647],\n",
              "        [0.13700461],\n",
              "        [0.14691134],\n",
              "        [0.14618888],\n",
              "        [0.14149132],\n",
              "        [0.17478798],\n",
              "        [0.22807866],\n",
              "        [0.24870554],\n",
              "        [0.23869823],\n",
              "        [0.2119824 ],\n",
              "        [0.16637668],\n",
              "        [0.1381054 ],\n",
              "        [0.1400412 ],\n",
              "        [0.21006225],\n",
              "        [0.34035382],\n",
              "        [0.39883077],\n",
              "        [0.3882686 ],\n",
              "        [0.37942064],\n",
              "        [0.37712348],\n",
              "        [0.3784325 ],\n",
              "        [0.38430163],\n",
              "        [0.3254566 ],\n",
              "        [0.18473908],\n",
              "        [0.12431156],\n",
              "        [0.22427371]],\n",
              "\n",
              "       [[0.35299736],\n",
              "        [0.3172389 ],\n",
              "        [0.24037415],\n",
              "        [0.1533368 ],\n",
              "        [0.13218266],\n",
              "        [0.14171855],\n",
              "        [0.15581025],\n",
              "        [0.21610266],\n",
              "        [0.31236124],\n",
              "        [0.34119493],\n",
              "        [0.3293065 ],\n",
              "        [0.32657164],\n",
              "        [0.34311128],\n",
              "        [0.31663004],\n",
              "        [0.19478635],\n",
              "        [0.1252881 ],\n",
              "        [0.1347583 ],\n",
              "        [0.2466027 ],\n",
              "        [0.37107375],\n",
              "        [0.38952973],\n",
              "        [0.38041413],\n",
              "        [0.3774852 ],\n",
              "        [0.3727744 ],\n",
              "        [0.37513524],\n",
              "        [0.37317848],\n",
              "        [0.3318043 ],\n",
              "        [0.26394853],\n",
              "        [0.28533566]],\n",
              "\n",
              "       [[0.34421405],\n",
              "        [0.3305694 ],\n",
              "        [0.25368232],\n",
              "        [0.15445536],\n",
              "        [0.1329445 ],\n",
              "        [0.14059071],\n",
              "        [0.24391998],\n",
              "        [0.31646895],\n",
              "        [0.3321836 ],\n",
              "        [0.3325228 ],\n",
              "        [0.32079613],\n",
              "        [0.31039622],\n",
              "        [0.3278259 ],\n",
              "        [0.37833658],\n",
              "        [0.32544807],\n",
              "        [0.15490302],\n",
              "        [0.12059462],\n",
              "        [0.18632244],\n",
              "        [0.34467155],\n",
              "        [0.38484165],\n",
              "        [0.37877384],\n",
              "        [0.37941104],\n",
              "        [0.3702538 ],\n",
              "        [0.37300923],\n",
              "        [0.3786628 ],\n",
              "        [0.37608936],\n",
              "        [0.34398615],\n",
              "        [0.31721026]],\n",
              "\n",
              "       [[0.33624905],\n",
              "        [0.33093292],\n",
              "        [0.26547185],\n",
              "        [0.16320454],\n",
              "        [0.13087519],\n",
              "        [0.16440801],\n",
              "        [0.29589048],\n",
              "        [0.32956424],\n",
              "        [0.3276059 ],\n",
              "        [0.33023295],\n",
              "        [0.3115579 ],\n",
              "        [0.29797167],\n",
              "        [0.3097334 ],\n",
              "        [0.35009265],\n",
              "        [0.3673751 ],\n",
              "        [0.22248547],\n",
              "        [0.11937968],\n",
              "        [0.16044697],\n",
              "        [0.3181687 ],\n",
              "        [0.3796089 ],\n",
              "        [0.37415007],\n",
              "        [0.3768755 ],\n",
              "        [0.3721976 ],\n",
              "        [0.36862165],\n",
              "        [0.36695713],\n",
              "        [0.36012614],\n",
              "        [0.33774742],\n",
              "        [0.3196579 ]],\n",
              "\n",
              "       [[0.31998962],\n",
              "        [0.32444367],\n",
              "        [0.2854774 ],\n",
              "        [0.1711148 ],\n",
              "        [0.12235256],\n",
              "        [0.17532878],\n",
              "        [0.29763222],\n",
              "        [0.32422796],\n",
              "        [0.33677348],\n",
              "        [0.3335278 ],\n",
              "        [0.31477112],\n",
              "        [0.30634528],\n",
              "        [0.31131685],\n",
              "        [0.33907872],\n",
              "        [0.37071964],\n",
              "        [0.2418846 ],\n",
              "        [0.11915396],\n",
              "        [0.15295146],\n",
              "        [0.30211762],\n",
              "        [0.38141575],\n",
              "        [0.37961677],\n",
              "        [0.37845913],\n",
              "        [0.37651056],\n",
              "        [0.3651894 ],\n",
              "        [0.36481115],\n",
              "        [0.35793176],\n",
              "        [0.34182498],\n",
              "        [0.3145358 ]],\n",
              "\n",
              "       [[0.31954196],\n",
              "        [0.32319775],\n",
              "        [0.29996026],\n",
              "        [0.19110313],\n",
              "        [0.12641546],\n",
              "        [0.15956478],\n",
              "        [0.27991125],\n",
              "        [0.32409108],\n",
              "        [0.32891768],\n",
              "        [0.32467225],\n",
              "        [0.31529728],\n",
              "        [0.31739417],\n",
              "        [0.31655377],\n",
              "        [0.31669903],\n",
              "        [0.34889415],\n",
              "        [0.23064098],\n",
              "        [0.12397633],\n",
              "        [0.1490164 ],\n",
              "        [0.30400193],\n",
              "        [0.3876848 ],\n",
              "        [0.3812192 ],\n",
              "        [0.3741291 ],\n",
              "        [0.35367617],\n",
              "        [0.36252886],\n",
              "        [0.36726382],\n",
              "        [0.35819948],\n",
              "        [0.33951616],\n",
              "        [0.3090207 ]],\n",
              "\n",
              "       [[0.31594133],\n",
              "        [0.32179165],\n",
              "        [0.30537882],\n",
              "        [0.22118652],\n",
              "        [0.13845097],\n",
              "        [0.13189913],\n",
              "        [0.2263596 ],\n",
              "        [0.3149619 ],\n",
              "        [0.3221347 ],\n",
              "        [0.32153538],\n",
              "        [0.31981632],\n",
              "        [0.31961253],\n",
              "        [0.3140299 ],\n",
              "        [0.31082213],\n",
              "        [0.30995196],\n",
              "        [0.20165217],\n",
              "        [0.12617254],\n",
              "        [0.17650835],\n",
              "        [0.33019623],\n",
              "        [0.3875001 ],\n",
              "        [0.37431127],\n",
              "        [0.2882404 ],\n",
              "        [0.22496395],\n",
              "        [0.3291705 ],\n",
              "        [0.37923697],\n",
              "        [0.36117703],\n",
              "        [0.34316474],\n",
              "        [0.30408758]],\n",
              "\n",
              "       [[0.30953673],\n",
              "        [0.3180329 ],\n",
              "        [0.3172945 ],\n",
              "        [0.23665129],\n",
              "        [0.13757429],\n",
              "        [0.12175792],\n",
              "        [0.19966953],\n",
              "        [0.3082982 ],\n",
              "        [0.31834885],\n",
              "        [0.308478  ],\n",
              "        [0.31187722],\n",
              "        [0.309189  ],\n",
              "        [0.3152855 ],\n",
              "        [0.3249968 ],\n",
              "        [0.2779978 ],\n",
              "        [0.15185893],\n",
              "        [0.11900259],\n",
              "        [0.20936999],\n",
              "        [0.353823  ],\n",
              "        [0.38601813],\n",
              "        [0.34706128],\n",
              "        [0.1894481 ],\n",
              "        [0.13910489],\n",
              "        [0.25184962],\n",
              "        [0.36936688],\n",
              "        [0.3683    ],\n",
              "        [0.3456656 ],\n",
              "        [0.3252149 ]],\n",
              "\n",
              "       [[0.32698905],\n",
              "        [0.32823744],\n",
              "        [0.33514944],\n",
              "        [0.29815227],\n",
              "        [0.16633919],\n",
              "        [0.12706013],\n",
              "        [0.16666988],\n",
              "        [0.27288425],\n",
              "        [0.32036492],\n",
              "        [0.31358433],\n",
              "        [0.31304103],\n",
              "        [0.30624637],\n",
              "        [0.32016563],\n",
              "        [0.32111686],\n",
              "        [0.21708648],\n",
              "        [0.12782799],\n",
              "        [0.14270617],\n",
              "        [0.2608291 ],\n",
              "        [0.36642691],\n",
              "        [0.37862802],\n",
              "        [0.34771404],\n",
              "        [0.20361292],\n",
              "        [0.12700637],\n",
              "        [0.15492083],\n",
              "        [0.27161542],\n",
              "        [0.34501982],\n",
              "        [0.34132278],\n",
              "        [0.32442972]],\n",
              "\n",
              "       [[0.3662481 ],\n",
              "        [0.37426132],\n",
              "        [0.37780246],\n",
              "        [0.3509835 ],\n",
              "        [0.21473643],\n",
              "        [0.13322195],\n",
              "        [0.12652692],\n",
              "        [0.20610477],\n",
              "        [0.3236373 ],\n",
              "        [0.3607002 ],\n",
              "        [0.36817664],\n",
              "        [0.3645842 ],\n",
              "        [0.34237158],\n",
              "        [0.25176042],\n",
              "        [0.13846889],\n",
              "        [0.11436674],\n",
              "        [0.18919185],\n",
              "        [0.33707392],\n",
              "        [0.37912902],\n",
              "        [0.37342343],\n",
              "        [0.37405673],\n",
              "        [0.27909708],\n",
              "        [0.13884123],\n",
              "        [0.11576472],\n",
              "        [0.14165457],\n",
              "        [0.21499732],\n",
              "        [0.28497976],\n",
              "        [0.30866122]],\n",
              "\n",
              "       [[0.37514487],\n",
              "        [0.37887466],\n",
              "        [0.3772128 ],\n",
              "        [0.36159277],\n",
              "        [0.28018   ],\n",
              "        [0.16017242],\n",
              "        [0.13035738],\n",
              "        [0.14689013],\n",
              "        [0.24351883],\n",
              "        [0.33794433],\n",
              "        [0.34502214],\n",
              "        [0.30945802],\n",
              "        [0.24174234],\n",
              "        [0.14602311],\n",
              "        [0.11751966],\n",
              "        [0.16014518],\n",
              "        [0.27892524],\n",
              "        [0.3767519 ],\n",
              "        [0.3778993 ],\n",
              "        [0.36688074],\n",
              "        [0.3630447 ],\n",
              "        [0.35374483],\n",
              "        [0.22394517],\n",
              "        [0.13138433],\n",
              "        [0.11573486],\n",
              "        [0.11816274],\n",
              "        [0.14978714],\n",
              "        [0.18587442]],\n",
              "\n",
              "       [[0.37225008],\n",
              "        [0.36912727],\n",
              "        [0.36544648],\n",
              "        [0.36777332],\n",
              "        [0.3484411 ],\n",
              "        [0.2577842 ],\n",
              "        [0.15052254],\n",
              "        [0.12703851],\n",
              "        [0.15362026],\n",
              "        [0.20763323],\n",
              "        [0.20064695],\n",
              "        [0.15285899],\n",
              "        [0.14451942],\n",
              "        [0.1231201 ],\n",
              "        [0.1350134 ],\n",
              "        [0.24558748],\n",
              "        [0.35304075],\n",
              "        [0.37951702],\n",
              "        [0.36721596],\n",
              "        [0.3601632 ],\n",
              "        [0.35510328],\n",
              "        [0.36357486],\n",
              "        [0.3356034 ],\n",
              "        [0.23138435],\n",
              "        [0.14818642],\n",
              "        [0.11990219],\n",
              "        [0.11878751],\n",
              "        [0.12916988]],\n",
              "\n",
              "       [[0.3584067 ],\n",
              "        [0.3610515 ],\n",
              "        [0.37029526],\n",
              "        [0.3644608 ],\n",
              "        [0.36083284],\n",
              "        [0.33932263],\n",
              "        [0.25297198],\n",
              "        [0.16456492],\n",
              "        [0.12703662],\n",
              "        [0.1273442 ],\n",
              "        [0.11524341],\n",
              "        [0.1080504 ],\n",
              "        [0.12274167],\n",
              "        [0.16608208],\n",
              "        [0.24710694],\n",
              "        [0.34616244],\n",
              "        [0.3658217 ],\n",
              "        [0.36579457],\n",
              "        [0.3601794 ],\n",
              "        [0.35755053],\n",
              "        [0.35717094],\n",
              "        [0.3630426 ],\n",
              "        [0.3785762 ],\n",
              "        [0.3575241 ],\n",
              "        [0.28277385],\n",
              "        [0.19968495],\n",
              "        [0.16211903],\n",
              "        [0.15153347]],\n",
              "\n",
              "       [[0.3557455 ],\n",
              "        [0.35635325],\n",
              "        [0.3630337 ],\n",
              "        [0.36092538],\n",
              "        [0.35121697],\n",
              "        [0.34996215],\n",
              "        [0.32154077],\n",
              "        [0.26887125],\n",
              "        [0.22195217],\n",
              "        [0.20216066],\n",
              "        [0.19583815],\n",
              "        [0.21045408],\n",
              "        [0.2585115 ],\n",
              "        [0.3186969 ],\n",
              "        [0.359067  ],\n",
              "        [0.35919616],\n",
              "        [0.3604231 ],\n",
              "        [0.35884708],\n",
              "        [0.3606655 ],\n",
              "        [0.35998458],\n",
              "        [0.35194415],\n",
              "        [0.35701194],\n",
              "        [0.36816275],\n",
              "        [0.3720612 ],\n",
              "        [0.34262723],\n",
              "        [0.30061513],\n",
              "        [0.2868623 ],\n",
              "        [0.2684103 ]],\n",
              "\n",
              "       [[0.34583673],\n",
              "        [0.345175  ],\n",
              "        [0.3426572 ],\n",
              "        [0.34853   ],\n",
              "        [0.33744872],\n",
              "        [0.32470262],\n",
              "        [0.3193493 ],\n",
              "        [0.3054748 ],\n",
              "        [0.2964856 ],\n",
              "        [0.30752757],\n",
              "        [0.334623  ],\n",
              "        [0.3522628 ],\n",
              "        [0.36009604],\n",
              "        [0.36886063],\n",
              "        [0.37154895],\n",
              "        [0.36204058],\n",
              "        [0.35634744],\n",
              "        [0.35995665],\n",
              "        [0.3638414 ],\n",
              "        [0.35958183],\n",
              "        [0.3547625 ],\n",
              "        [0.35863194],\n",
              "        [0.36401877],\n",
              "        [0.36197534],\n",
              "        [0.33661813],\n",
              "        [0.30064303],\n",
              "        [0.2986724 ],\n",
              "        [0.30972174]]], dtype=float32)"
            ]
          },
          "metadata": {
            "tags": []
          },
          "execution_count": 17
        }
      ]
    },
    {
      "cell_type": "code",
      "metadata": {
        "colab_type": "code",
        "id": "_Dp-jITGs4Jq",
        "colab": {}
      },
      "source": [
        "batch_size = 128\n",
        "num_classes = 10\n",
        "epochs = 12"
      ],
      "execution_count": 0,
      "outputs": []
    },
    {
      "cell_type": "code",
      "metadata": {
        "colab_type": "code",
        "id": "qX8CdMUs5qvO",
        "outputId": "56848dc0-1988-4cf2-f0cd-df50a7f2344d",
        "colab": {
          "base_uri": "https://localhost:8080/",
          "height": 34
        }
      },
      "source": [
        "print(y_train[0])"
      ],
      "execution_count": 19,
      "outputs": [
        {
          "output_type": "stream",
          "text": [
            "2\n"
          ],
          "name": "stdout"
        }
      ]
    },
    {
      "cell_type": "markdown",
      "metadata": {
        "colab_type": "text",
        "id": "N8TE7MoZi_w7"
      },
      "source": [
        "<h4>Convert Labels from digits to one hot vectors</h4>"
      ]
    },
    {
      "cell_type": "code",
      "metadata": {
        "colab_type": "code",
        "id": "cqh-cVtT4ijU",
        "colab": {}
      },
      "source": [
        "import keras\n",
        "# convert class vectors to binary class matrices\n",
        "y_train = keras.utils.to_categorical(y_train, num_classes)\n",
        "y_test = keras.utils.to_categorical(y_test, num_classes)"
      ],
      "execution_count": 0,
      "outputs": []
    },
    {
      "cell_type": "code",
      "metadata": {
        "colab_type": "code",
        "id": "yMfUrCYO5VeA",
        "outputId": "207f6f8a-29c1-4420-fc74-03389bbee7b5",
        "colab": {
          "base_uri": "https://localhost:8080/",
          "height": 34
        }
      },
      "source": [
        "print(y_train[0])"
      ],
      "execution_count": 21,
      "outputs": [
        {
          "output_type": "stream",
          "text": [
            "[0. 0. 1. 0. 0. 0. 0. 0. 0. 0.]\n"
          ],
          "name": "stdout"
        }
      ]
    },
    {
      "cell_type": "markdown",
      "metadata": {
        "colab_type": "text",
        "id": "QV4R9IbjjOVT"
      },
      "source": [
        "# Building the CNN \n",
        "\n",
        "<h4>Define the layers of model with same size as the CNN used for MNIST Classification</h4>\n",
        "<h4>Give appropriate names to each layer to access them later</h4>"
      ]
    },
    {
      "cell_type": "code",
      "metadata": {
        "colab_type": "code",
        "id": "7sse4G5d4lpY",
        "colab": {}
      },
      "source": [
        "#Initialize the model\n",
        "model = Sequential()\n",
        "\n",
        "#Add a Convolutional Layer with 32 filters of size 3X3 and activation function as 'ReLU' \n",
        "model.add(Conv2D(32, kernel_size=(3, 3),\n",
        "                 activation='relu',\n",
        "                 input_shape=input_shape,name='conv_1'))\n",
        "\n",
        "#Add a Convolutional Layer with 64 filters of size 3X3 and activation function as 'ReLU' \n",
        "model.add(Conv2D(64, (3, 3), activation='relu',name='conv_2'))\n",
        "\n",
        "#Add a MaxPooling Layer of size 2X2 \n",
        "model.add(MaxPooling2D(pool_size=(2, 2),name='max_1'))\n",
        "\n",
        "#Apply Dropout with 0.25 probability \n",
        "model.add(Dropout(0.5,name='drop_1'))\n",
        "\n",
        "#Flatten the layer\n",
        "model.add(Flatten())\n",
        "\n",
        "#Add Fully Connected Layer with 128 units and activation function as 'ReLU'\n",
        "model.add(Dense(128, activation='relu',name='dense_1'))\n",
        "\n",
        "#Apply Dropout with 0.5 probability \n",
        "model.add(Dropout(0.5,name='drop_2'))\n",
        "\n",
        "num_classes = 10\n",
        "\n",
        "#Add Fully Connected Layer with 10 units and activation function as 'softmax'\n",
        "model.add(Dense(num_classes, activation='softmax',name='dense_2'))"
      ],
      "execution_count": 0,
      "outputs": []
    },
    {
      "cell_type": "code",
      "metadata": {
        "id": "tnKvSvWkMw8l",
        "colab_type": "code",
        "outputId": "d2611ef0-cedb-4904-9b1b-b086cdbd5caf",
        "colab": {
          "base_uri": "https://localhost:8080/",
          "height": 425
        }
      },
      "source": [
        "model.summary()"
      ],
      "execution_count": 23,
      "outputs": [
        {
          "output_type": "stream",
          "text": [
            "Model: \"sequential_1\"\n",
            "_________________________________________________________________\n",
            "Layer (type)                 Output Shape              Param #   \n",
            "=================================================================\n",
            "conv_1 (Conv2D)              (None, 26, 26, 32)        320       \n",
            "_________________________________________________________________\n",
            "conv_2 (Conv2D)              (None, 24, 24, 64)        18496     \n",
            "_________________________________________________________________\n",
            "max_1 (MaxPooling2D)         (None, 12, 12, 64)        0         \n",
            "_________________________________________________________________\n",
            "drop_1 (Dropout)             (None, 12, 12, 64)        0         \n",
            "_________________________________________________________________\n",
            "flatten_1 (Flatten)          (None, 9216)              0         \n",
            "_________________________________________________________________\n",
            "dense_1 (Dense)              (None, 128)               1179776   \n",
            "_________________________________________________________________\n",
            "drop_2 (Dropout)             (None, 128)               0         \n",
            "_________________________________________________________________\n",
            "dense_2 (Dense)              (None, 10)                1290      \n",
            "=================================================================\n",
            "Total params: 1,199,882\n",
            "Trainable params: 1,199,882\n",
            "Non-trainable params: 0\n",
            "_________________________________________________________________\n"
          ],
          "name": "stdout"
        }
      ]
    },
    {
      "cell_type": "markdown",
      "metadata": {
        "colab_type": "text",
        "id": "s9VJobkQvaYp"
      },
      "source": [
        "<h4>Freeze the initial convolutional layer weights and train only the dense(FC) layers</h4>"
      ]
    },
    {
      "cell_type": "code",
      "metadata": {
        "colab_type": "code",
        "id": "Ck2lNMYtTpax",
        "outputId": "ac6231b3-69f6-4155-9481-70e8dbd46bab",
        "colab": {
          "base_uri": "https://localhost:8080/",
          "height": 289
        }
      },
      "source": [
        "#Freezing layers in the model which don't have 'dense' in their name\n",
        "for layer in model.layers:\n",
        "  #if('dense' in layer.name): #prefix detection to freeze layers which does not have dense\n",
        "    #Freezing a layer\n",
        "    layer.trainable = True\n",
        "\n",
        "#Module to print colourful statements\n",
        "from termcolor import colored\n",
        "\n",
        "#Check which layers have been frozen \n",
        "for layer in model.layers:\n",
        "  print (colored(layer.name, 'blue'))\n",
        "  print (colored(layer.trainable, 'red'))"
      ],
      "execution_count": 24,
      "outputs": [
        {
          "output_type": "stream",
          "text": [
            "\u001b[34mconv_1\u001b[0m\n",
            "\u001b[31mTrue\u001b[0m\n",
            "\u001b[34mconv_2\u001b[0m\n",
            "\u001b[31mTrue\u001b[0m\n",
            "\u001b[34mmax_1\u001b[0m\n",
            "\u001b[31mTrue\u001b[0m\n",
            "\u001b[34mdrop_1\u001b[0m\n",
            "\u001b[31mTrue\u001b[0m\n",
            "\u001b[34mflatten_1\u001b[0m\n",
            "\u001b[31mTrue\u001b[0m\n",
            "\u001b[34mdense_1\u001b[0m\n",
            "\u001b[31mTrue\u001b[0m\n",
            "\u001b[34mdrop_2\u001b[0m\n",
            "\u001b[31mTrue\u001b[0m\n",
            "\u001b[34mdense_2\u001b[0m\n",
            "\u001b[31mTrue\u001b[0m\n"
          ],
          "name": "stdout"
        }
      ]
    },
    {
      "cell_type": "markdown",
      "metadata": {
        "colab_type": "text",
        "id": "JMT0L1Wmv7HZ"
      },
      "source": [
        "<h4>Load pre-trained weights from MNIST CNN model </h4>"
      ]
    },
    {
      "cell_type": "code",
      "metadata": {
        "colab_type": "code",
        "id": "ZjY-XBcKtyuu",
        "colab": {}
      },
      "source": [
        "#The pre-trained weights must exist in the current folder\n",
        "model.load_weights('cnn_mnist_weights.h5')"
      ],
      "execution_count": 0,
      "outputs": []
    },
    {
      "cell_type": "markdown",
      "metadata": {
        "colab_type": "text",
        "id": "iDYmge-AlJTX"
      },
      "source": [
        "<h4>Setting Optimizer and Loss function for training</h4>"
      ]
    },
    {
      "cell_type": "code",
      "metadata": {
        "colab_type": "code",
        "id": "W-y6cZaL4p6R",
        "colab": {}
      },
      "source": [
        "from keras.optimizers import Adam\n",
        "from keras.losses import categorical_crossentropy\n",
        "\n",
        "#To use adam optimizer for learning weights with learning rate = 0.001\n",
        "optimizer = Adam(lr=0.001)\n",
        "#Set the loss function and optimizer for the model training\n",
        "model.compile(loss=categorical_crossentropy,\n",
        "              optimizer=optimizer,\n",
        "              metrics=['accuracy'])"
      ],
      "execution_count": 0,
      "outputs": []
    },
    {
      "cell_type": "markdown",
      "metadata": {
        "colab_type": "text",
        "id": "wVHOojpJlvVa"
      },
      "source": [
        "# Training the CNN "
      ]
    },
    {
      "cell_type": "markdown",
      "metadata": {
        "colab_type": "text",
        "id": "wJIhBhbDmZ8U"
      },
      "source": [
        "<h4>Fit the model to the SVHN dataset</h4>"
      ]
    },
    {
      "cell_type": "code",
      "metadata": {
        "colab_type": "code",
        "id": "QDBvTM2B4smP",
        "outputId": "721ecb4a-7ee9-4566-9c2a-d0d5ff55a91b",
        "colab": {
          "base_uri": "https://localhost:8080/",
          "height": 751
        }
      },
      "source": [
        "#Training on the dataset\n",
        "model.fit(x_train, y_train,\n",
        "          batch_size=batch_size,\n",
        "          epochs=20,\n",
        "          verbose=1,\n",
        "          validation_data=(x_test, y_test))"
      ],
      "execution_count": 27,
      "outputs": [
        {
          "output_type": "stream",
          "text": [
            "Train on 22000 samples, validate on 8000 samples\n",
            "Epoch 1/20\n",
            "22000/22000 [==============================] - 9s 394us/step - loss: 1.2941 - accuracy: 0.5908 - val_loss: 0.7057 - val_accuracy: 0.7974\n",
            "Epoch 2/20\n",
            "22000/22000 [==============================] - 2s 99us/step - loss: 0.7521 - accuracy: 0.7677 - val_loss: 0.5232 - val_accuracy: 0.8480\n",
            "Epoch 3/20\n",
            "22000/22000 [==============================] - 2s 99us/step - loss: 0.6210 - accuracy: 0.8100 - val_loss: 0.4641 - val_accuracy: 0.8680\n",
            "Epoch 4/20\n",
            "22000/22000 [==============================] - 2s 100us/step - loss: 0.5444 - accuracy: 0.8306 - val_loss: 0.4260 - val_accuracy: 0.8770\n",
            "Epoch 5/20\n",
            "22000/22000 [==============================] - 2s 99us/step - loss: 0.4938 - accuracy: 0.8480 - val_loss: 0.4049 - val_accuracy: 0.8845\n",
            "Epoch 6/20\n",
            "22000/22000 [==============================] - 2s 99us/step - loss: 0.4537 - accuracy: 0.8600 - val_loss: 0.3991 - val_accuracy: 0.8911\n",
            "Epoch 7/20\n",
            "22000/22000 [==============================] - 2s 100us/step - loss: 0.4216 - accuracy: 0.8717 - val_loss: 0.3768 - val_accuracy: 0.8939\n",
            "Epoch 8/20\n",
            "22000/22000 [==============================] - 2s 101us/step - loss: 0.3960 - accuracy: 0.8745 - val_loss: 0.3719 - val_accuracy: 0.8942\n",
            "Epoch 9/20\n",
            "22000/22000 [==============================] - 2s 101us/step - loss: 0.3783 - accuracy: 0.8814 - val_loss: 0.3633 - val_accuracy: 0.9003\n",
            "Epoch 10/20\n",
            "22000/22000 [==============================] - 2s 100us/step - loss: 0.3538 - accuracy: 0.8870 - val_loss: 0.3561 - val_accuracy: 0.8986\n",
            "Epoch 11/20\n",
            "22000/22000 [==============================] - 2s 99us/step - loss: 0.3371 - accuracy: 0.8929 - val_loss: 0.3577 - val_accuracy: 0.9014\n",
            "Epoch 12/20\n",
            "22000/22000 [==============================] - 2s 100us/step - loss: 0.3184 - accuracy: 0.8980 - val_loss: 0.3530 - val_accuracy: 0.9051\n",
            "Epoch 13/20\n",
            "22000/22000 [==============================] - 2s 100us/step - loss: 0.3030 - accuracy: 0.9044 - val_loss: 0.3540 - val_accuracy: 0.9055\n",
            "Epoch 14/20\n",
            "22000/22000 [==============================] - 2s 99us/step - loss: 0.2911 - accuracy: 0.9075 - val_loss: 0.3506 - val_accuracy: 0.9080\n",
            "Epoch 15/20\n",
            "22000/22000 [==============================] - 2s 100us/step - loss: 0.2754 - accuracy: 0.9101 - val_loss: 0.3438 - val_accuracy: 0.9078\n",
            "Epoch 16/20\n",
            "22000/22000 [==============================] - 2s 100us/step - loss: 0.2624 - accuracy: 0.9135 - val_loss: 0.3401 - val_accuracy: 0.9087\n",
            "Epoch 17/20\n",
            "22000/22000 [==============================] - 2s 100us/step - loss: 0.2527 - accuracy: 0.9181 - val_loss: 0.3415 - val_accuracy: 0.9071\n",
            "Epoch 18/20\n",
            "22000/22000 [==============================] - 2s 100us/step - loss: 0.2469 - accuracy: 0.9176 - val_loss: 0.3493 - val_accuracy: 0.9080\n",
            "Epoch 19/20\n",
            "22000/22000 [==============================] - 2s 100us/step - loss: 0.2394 - accuracy: 0.9210 - val_loss: 0.3442 - val_accuracy: 0.9082\n",
            "Epoch 20/20\n",
            "22000/22000 [==============================] - 2s 99us/step - loss: 0.2281 - accuracy: 0.9247 - val_loss: 0.3375 - val_accuracy: 0.9111\n"
          ],
          "name": "stdout"
        },
        {
          "output_type": "execute_result",
          "data": {
            "text/plain": [
              "<keras.callbacks.callbacks.History at 0x7f33bd68af90>"
            ]
          },
          "metadata": {
            "tags": []
          },
          "execution_count": 27
        }
      ]
    },
    {
      "cell_type": "markdown",
      "metadata": {
        "colab_type": "text",
        "id": "U3WWyAm_me96"
      },
      "source": [
        "# Evaluating the CNN"
      ]
    },
    {
      "cell_type": "markdown",
      "metadata": {
        "colab_type": "text",
        "id": "_DnRZGxSmi5C"
      },
      "source": [
        "<h4>Evaluate trained model on the test set</h4>"
      ]
    },
    {
      "cell_type": "code",
      "metadata": {
        "colab_type": "code",
        "id": "q4oZhZm34v_R",
        "outputId": "8dd8cb7f-47e3-4f01-969d-b302b20ca7d7",
        "colab": {
          "base_uri": "https://localhost:8080/",
          "height": 68
        }
      },
      "source": [
        "#Testing the model on test set\n",
        "score = model.evaluate(x_test, y_test)\n",
        "print('Test loss:', score[0])\n",
        "print('Test accuracy:', score[1])"
      ],
      "execution_count": 28,
      "outputs": [
        {
          "output_type": "stream",
          "text": [
            "8000/8000 [==============================] - 1s 75us/step\n",
            "('Test loss:', 0.3375479440763593)\n",
            "('Test accuracy:', 0.9111250042915344)\n"
          ],
          "name": "stdout"
        }
      ]
    },
    {
      "cell_type": "markdown",
      "metadata": {
        "colab_type": "text",
        "id": "tWuDdzf0rgf-"
      },
      "source": [
        "<h4>Visualizing some predictions</h4>"
      ]
    },
    {
      "cell_type": "code",
      "metadata": {
        "colab_type": "code",
        "id": "V2TDTy0PyNDB",
        "outputId": "098227f7-cbc9-432e-84fc-a5e3c321d921",
        "colab": {
          "base_uri": "https://localhost:8080/",
          "height": 817
        }
      },
      "source": [
        "import numpy as np\n",
        "\n",
        "plt.figure(figsize=(2,2))\n",
        "plt.imshow(x_test[3].reshape(28,28),cmap=\"gray\")\n",
        "plt.show()\n",
        "print(np.argmax(model.predict(x_test[3].reshape(1,28,28,1))))\n",
        "\n",
        "\n",
        "plt.figure(figsize=(2,2))\n",
        "plt.imshow(x_test[2].reshape(28,28),cmap=\"gray\")\n",
        "plt.show()\n",
        "print(np.argmax(model.predict(x_test[2].reshape(1,28,28,1))))\n",
        "\n",
        "\n",
        "plt.figure(figsize=(2,2))\n",
        "plt.imshow(x_test[33].reshape(28,28),cmap=\"gray\")\n",
        "plt.show()\n",
        "print(np.argmax(model.predict(x_test[33].reshape(1,28,28,1))))\n",
        "\n",
        "\n",
        "plt.figure(figsize=(2,2))\n",
        "plt.imshow(x_test[59].reshape(28,28),cmap=\"gray\")\n",
        "plt.show()\n",
        "print(np.argmax(model.predict(x_test[59].reshape(1,28,28,1))))\n",
        "\n",
        "\n",
        "plt.figure(figsize=(2,2))\n",
        "plt.imshow(x_test[36].reshape(28,28),cmap=\"gray\")\n",
        "plt.show()\n",
        "print(np.argmax(model.predict(x_test[36].reshape(1,28,28,1))))"
      ],
      "execution_count": 29,
      "outputs": [
        {
          "output_type": "display_data",
          "data": {
            "image/png": "[encoded data removed]",
            "text/plain": [
              "<Figure size 144x144 with 1 Axes>"
            ]
          },
          "metadata": {
            "tags": [],
            "needs_background": "light"
          }
        },
        {
          "output_type": "stream",
          "text": [
            "9\n"
          ],
          "name": "stdout"
        },
        {
          "output_type": "display_data",
          "data": {
            "image/png": "[encoded data removed]",
            "text/plain": [
              "<Figure size 144x144 with 1 Axes>"
            ]
          },
          "metadata": {
            "tags": [],
            "needs_background": "light"
          }
        },
        {
          "output_type": "stream",
          "text": [
            "2\n"
          ],
          "name": "stdout"
        },
        {
          "output_type": "display_data",
          "data": {
            "image/png": "[encoded data removed]",
            "text/plain": [
              "<Figure size 144x144 with 1 Axes>"
            ]
          },
          "metadata": {
            "tags": [],
            "needs_background": "light"
          }
        },
        {
          "output_type": "stream",
          "text": [
            "1\n"
          ],
          "name": "stdout"
        },
        {
          "output_type": "display_data",
          "data": {
            "image/png": "[encoded data removed]",
            "text/plain": [
              "<Figure size 144x144 with 1 Axes>"
            ]
          },
          "metadata": {
            "tags": [],
            "needs_background": "light"
          }
        },
        {
          "output_type": "stream",
          "text": [
            "9\n"
          ],
          "name": "stdout"
        },
        {
          "output_type": "display_data",
          "data": {
            "image/png": "[encoded data removed]",
            "text/plain": [
              "<Figure size 144x144 with 1 Axes>"
            ]
          },
          "metadata": {
            "tags": [],
            "needs_background": "light"
          }
        },
        {
          "output_type": "stream",
          "text": [
            "5\n"
          ],
          "name": "stdout"
        }
      ]
    },
    {
      "cell_type": "markdown",
      "metadata": {
        "colab_type": "text",
        "id": "Fvl0nK6pmsmt"
      },
      "source": [
        "# Saving the CNN"
      ]
    },
    {
      "cell_type": "markdown",
      "metadata": {
        "colab_type": "text",
        "id": "xM4Ram-pmyPd"
      },
      "source": [
        "<h4>Save the trained weights and model in h5 files</h4>"
      ]
    },
    {
      "cell_type": "code",
      "metadata": {
        "colab_type": "code",
        "id": "fhTA0qnm85kH",
        "colab": {}
      },
      "source": [
        "#Set the path where you want to store the model and weights. \n",
        "model.save('cnn_svhn.h5')\n",
        "model.save_weights('cnn_svhn_weights.h5')\n",
        "\n",
        "\n",
        "#model.save() stores (quoting the Keras FAQ):\n",
        "\n",
        "#the architecture of the model, allowing to re-create the model\n",
        "#the weights of the model\n",
        "#the training configuration (loss, optimizer)\n",
        "#the state of the optimizer, allowing to resume training exactly where you left off."
      ],
      "execution_count": 0,
      "outputs": []
    }
  ]
}